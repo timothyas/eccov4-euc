{
 "cells": [
  {
   "cell_type": "markdown",
   "metadata": {},
   "source": [
    "# Convert crazy text file into xarray Dataset, save as NetCDF\n",
    "\n",
    "Note that I used the `get_triton.sh` after un-tar'ing/and unzipping the `MRB_CSV.tar.gz` tarball that they gave us..."
   ]
  },
  {
   "cell_type": "code",
   "execution_count": 1,
   "metadata": {},
   "outputs": [],
   "source": [
    "import numpy as np\n",
    "import matplotlib.pyplot as plt\n",
    "import xarray as xr\n",
    "\n",
    "import cartopy.crs as ccrs\n",
    "import re"
   ]
  },
  {
   "cell_type": "markdown",
   "metadata": {},
   "source": [
    "Read from the csv file"
   ]
  },
  {
   "cell_type": "code",
   "execution_count": 2,
   "metadata": {},
   "outputs": [],
   "source": [
    "readdict = {'Latitude': lambda line : float(line.split(',decimal')[0].split(' ')[-1]),\n",
    "        'Longitude': lambda line : float(line.split(',decimal')[0].split(' ')[-1]),\n",
    "        'Year': lambda line : int(line.split(',,,')[0].split(' ')[-1]),\n",
    "        'Month': lambda line : int(line.split(',,,')[0].split(' ')[-1]),\n",
    "        'Day': lambda line : int(line.split(',,,')[0].split(' ')[-1]),\n",
    "       }"
   ]
  },
  {
   "cell_type": "code",
   "execution_count": 3,
   "metadata": {},
   "outputs": [],
   "source": [
    "def parse_ts(line, index):\n",
    "    result = np.nan\n",
    "    split = line.split(',')\n",
    "    length_correct = index<len(split) and len(split) == 11\n",
    "    if length_correct:\n",
    "        val = split[index]\n",
    "        no_illegal_chars = not any(x in val for x in ['-0-','\\n'])\n",
    "        result = float(val) if no_illegal_chars else np.nan\n",
    "    \n",
    "    return result"
   ]
  },
  {
   "cell_type": "code",
   "execution_count": 4,
   "metadata": {},
   "outputs": [],
   "source": [
    "def read_file(fname, read):\n",
    "    tao = {key:[] for key in read.keys()}\n",
    "    counter = {key:[] for key in read.keys()}\n",
    "    tao['Depth'] = np.concatenate([np.arange(0, 100, 5), np.arange(100, 500,25), np.arange(500,755, 50)])\n",
    "    tao['Temperature'] = []\n",
    "    tao['Salinity'] = []\n",
    "    \n",
    "    counter['Temperature'] = []\n",
    "    counter['Salinity'] = []\n",
    "    \n",
    "    profile_index = 0\n",
    "    line_no = 0\n",
    "    with open(fname,'r') as f:\n",
    "        for line in f:\n",
    "            line_no+=1\n",
    "            if line[:81] == '#--------------------------------------------------------------------------------':\n",
    "                \n",
    "                # Reset T/S containers\n",
    "                ts_idx = 0\n",
    "                this_temp = np.full_like(tao['Depth'], np.nan, dtype=np.float64)\n",
    "                this_salt = np.full_like(tao['Depth'], np.nan, dtype=np.float64)\n",
    "                \n",
    "                # Read line for variables\n",
    "                while True:\n",
    "                    line = next(f)\n",
    "                    line_no+=1\n",
    "                    \n",
    "                    if \"END OF VARIABLES SECTION\" in line:\n",
    "                        \n",
    "                        # Fill T/S with what we found (if we didn't find it, we have NaNs!)\n",
    "                        tao['Temperature'].append(this_temp.copy())\n",
    "                        tao['Salinity'].append(this_salt.copy())\n",
    "                        counter['Temperature'].append(profile_index)\n",
    "                        counter['Salinity'].append(profile_index)\n",
    "                        \n",
    "                        # check for variables we missed, if missed, increment counter and variable iwth NaN\n",
    "                        for key in read.keys():\n",
    "                            latest = counter[key][-1]\n",
    "                            if latest != profile_index:\n",
    "                                tao[key].append(np.nan)\n",
    "                                counter[key].append(profile_index)\n",
    "                                \n",
    "                        # --- Check counter values\n",
    "                        try:\n",
    "                            assert counter['Latitude'][-1] == counter['Temperature'][-1]\n",
    "                        except:\n",
    "                            print(\" ** Counter values are inconsistent **\")\n",
    "                            print(\"Line: \",line_no)\n",
    "                            print(\"Counters:\")\n",
    "                            for key, val in counter.items():\n",
    "                                print(f\"\\t{key}: {val[-1]}\")\n",
    "                            print(\"Values:\")\n",
    "                            for key, val in tao.items():\n",
    "                                print(f\"\\t{key}: {val[-1]}\")\n",
    "                            raise\n",
    "                            \n",
    "                        # --- Check length\n",
    "                        try:\n",
    "                            assert len(counter['Latitude']) == len(counter['Temperature'])\n",
    "                        except:\n",
    "                            print(\" ** Counter lengths are inconsistent\")\n",
    "                            print(\"Line: \",line_no)\n",
    "                            print(\"Counters:\")\n",
    "                            for key, val in counter.items():\n",
    "                                print(f\"\\t{key}: {val[-1]}\")\n",
    "                            print(\"Values:\")\n",
    "                            for key, val in tao.items():\n",
    "                                print(f\"\\t{key}: {val[-1]}\")\n",
    "                            raise\n",
    "                                \n",
    "                        # prepare for next round\n",
    "                        profile_index += 1\n",
    "                        break\n",
    "                    else:\n",
    "                        # read line\n",
    "                        \n",
    "                        # First, look for easy stuff\n",
    "                        if any(key in line for key in read.keys()):\n",
    "                            for key, readme in read.items():\n",
    "                                if key in line:\n",
    "                                    tao[key].append(readme(line))\n",
    "                                    counter[key].append(profile_index)\n",
    "                                    \n",
    "                        # Assume leading whitespace is Depth/T/S data\n",
    "                        elif line[:5] == '     ':\n",
    "                            try:\n",
    "                                this_temp[ts_idx] = parse_ts(line, 4)\n",
    "                                this_salt[ts_idx] = parse_ts(line, 7)\n",
    "                            except IndexError:\n",
    "                                print(f\"line: {line_no}, ts_idx: {ts_idx}\")\n",
    "                                for key, val in tao.items():\n",
    "                                    print(f\"{key}[-1]: {val[-1]}\")\n",
    "                                raise\n",
    "                            ts_idx += 1\n",
    "    return tao, counter"
   ]
  },
  {
   "cell_type": "code",
   "execution_count": 5,
   "metadata": {},
   "outputs": [],
   "source": [
    "from copy import deepcopy"
   ]
  },
  {
   "cell_type": "code",
   "execution_count": 6,
   "metadata": {},
   "outputs": [
    {
     "name": "stdout",
     "output_type": "stream",
     "text": [
      "1. Latitude: 17665, Temperature: 17665\n",
      "2. Latitude: 4660, Temperature: 4660\n",
      "3. Latitude: 4757, Temperature: 4757\n",
      "4. Latitude: 4584, Temperature: 4584\n",
      "5. Latitude: 21477, Temperature: 21477\n",
      "6. Latitude: 24382, Temperature: 24382\n",
      "7. Latitude: 2572, Temperature: 2572\n"
     ]
    }
   ],
   "source": [
    "alldata = []\n",
    "for i in range(1,8):\n",
    "    tao, _ = read_file(f'MRB_CSV/triton_data.{i}.txt', readdict)\n",
    "    alldata.append(deepcopy(tao))\n",
    "    print(f\"{i}. Latitude: {len(tao['Latitude'])}, Temperature: {len(tao['Temperature'])}\")"
   ]
  },
  {
   "cell_type": "markdown",
   "metadata": {},
   "source": [
    "## Create xarray dataset"
   ]
  },
  {
   "cell_type": "code",
   "execution_count": 7,
   "metadata": {},
   "outputs": [],
   "source": [
    "def make_dataset(td):\n",
    "    \n",
    "    # Make np.datetime64 date\n",
    "    date = [np.datetime64(f'{Y}-{M:02d}-{D:02d}') for Y,M,D in zip(td['Year'],td['Month'],td['Day'])]\n",
    "    xds = xr.Dataset()\n",
    "    xds['time'] = xr.DataArray(date, coords={'time':date}, dims=('time',))\n",
    "    xds['lat'] = xr.DataArray(td['Latitude'], coords=xds['time'].coords, dims=xds['time'].dims,\n",
    "                             attrs={'long_name':'Latitude', 'units':'Degrees North'})\n",
    "    xds['lon'] = xr.DataArray(td['Longitude'], coords=xds['time'].coords, dims=xds['time'].dims,\n",
    "                             attrs={'long_name':'Longitude', 'units':'Degrees East'})\n",
    "    \n",
    "    xds['depth'] = xr.DataArray(td['Depth'], coords={'depth': td['Depth']}, dims=('depth',),\n",
    "                             attrs={'long_name':'Depth', 'units':'m'})\n",
    "    \n",
    "    xdalike = xds.depth.broadcast_like(xds['time'])\n",
    "    xds['temperature'] = xr.DataArray(td['Temperature'], coords=xdalike.coords, dims=xdalike.dims,\n",
    "                                     attrs={'long_name':'Temperature', 'units':'degC', 'long_units':'degrees Celsius'})\n",
    "    xds['salinity'] = xr.DataArray(td['Salinity'], coords=xdalike.coords, dims=xdalike.dims,\n",
    "                                     attrs={'long_name':'Salinity', 'units':'PSS', 'long_units':'Practical Salinity Scale'})\n",
    "    return xds"
   ]
  },
  {
   "cell_type": "code",
   "execution_count": 8,
   "metadata": {},
   "outputs": [],
   "source": [
    "dslist = []\n",
    "for tao in alldata:\n",
    "    dslist.append(make_dataset(tao))"
   ]
  },
  {
   "cell_type": "code",
   "execution_count": 9,
   "metadata": {},
   "outputs": [],
   "source": [
    "ds = xr.concat(dslist, dim='time')"
   ]
  },
  {
   "cell_type": "code",
   "execution_count": 10,
   "metadata": {},
   "outputs": [],
   "source": [
    "ds = ds.sortby('time')"
   ]
  },
  {
   "cell_type": "code",
   "execution_count": 11,
   "metadata": {},
   "outputs": [
    {
     "data": {
      "text/plain": [
       "<matplotlib.collections.QuadMesh at 0x14766b2980d0>"
      ]
     },
     "execution_count": 11,
     "metadata": {},
     "output_type": "execute_result"
    },
    {
     "data": {
      "image/png": "[encoded data removed]",
      "text/plain": [
       "<Figure size 432x288 with 2 Axes>"
      ]
     },
     "metadata": {
      "needs_background": "light"
     },
     "output_type": "display_data"
    }
   ],
   "source": [
    "ds.temperature.plot(x='time',yincrease=False)"
   ]
  },
  {
   "cell_type": "markdown",
   "metadata": {},
   "source": [
    "## Save that data!"
   ]
  },
  {
   "cell_type": "code",
   "execution_count": 13,
   "metadata": {},
   "outputs": [],
   "source": [
    "ds.to_netcdf('../ncfiles/triton_in_eccov4r4.nc')"
   ]
  },
  {
   "cell_type": "code",
   "execution_count": null,
   "metadata": {},
   "outputs": [],
   "source": []
  }
 ],
 "metadata": {
  "kernelspec": {
   "display_name": "py38_tim",
   "language": "python",
   "name": "py38_tim"
  },
  "language_info": {
   "codemirror_mode": {
    "name": "ipython",
    "version": 3
   },
   "file_extension": ".py",
   "mimetype": "text/x-python",
   "name": "python",
   "nbconvert_exporter": "python",
   "pygments_lexer": "ipython3",
   "version": "3.8.5"
  }
 },
 "nbformat": 4,
 "nbformat_minor": 4
}
