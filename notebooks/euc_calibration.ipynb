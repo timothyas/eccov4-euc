{
 "cells": [
  {
   "cell_type": "markdown",
   "metadata": {},
   "source": [
    "# EUC Calibration Experiment from David Halpern\n",
    "\n",
    "\n",
    "\n",
    "For the vertical spacing, what are the ECCOv4r4 vertical layers from the surface to 400 m depth?  At the equator (0°), the vertical profile of the zonal velocity component is: 0.1 m s*-1 towards the west from the sea surface at 0 m to 20 m depth; 0.5 m s*-1 towards the east at 20-170 m depth interval; and 0.1 m s-*1 towards the west at depths greater than 170 m.  What would be the “algorithm” or step-by-step computational method to compute the EUC transport per unit width?"
   ]
  },
  {
   "cell_type": "code",
   "execution_count": 1,
   "metadata": {},
   "outputs": [],
   "source": [
    "import os \n",
    "import numpy as np\n",
    "import matplotlib.pyplot as plt\n",
    "import xarray as xr\n",
    "from xgcm import Grid\n",
    "from pych.calc import haversine"
   ]
  },
  {
   "cell_type": "code",
   "execution_count": 24,
   "metadata": {},
   "outputs": [],
   "source": [
    "fig_dir = 'euc_figs'\n",
    "if not os.path.isdir(fig_dir):\n",
    "    os.makedirs(fig_dir)"
   ]
  },
  {
   "cell_type": "markdown",
   "metadata": {},
   "source": [
    "## Part 1: simplified transport\n",
    "\n",
    "Let’s do a calibration calculation.  Imagine the Equatorial Undercurrent at 140°W.  \n",
    "- At the equator (0°), the vertical profile of the zonal velocity component is: \n",
    "    - 0.1 m s*-1 towards the west from the sea surface at 0 m to 20 m depth; \n",
    "    - 0.5 m s*-1 towards the east at 20-170 m depth interval; and \n",
    "    - 0.1 m s*-1 towards the west at depths greater than 170 m.  \n",
    "- The EUC transport per unit width is (150 m) x (0.5 m s*-1) = 75 m*2 s*-1.  \n",
    "- Let’s assume that the identical velocity profile occurs at all latitudes from 1.5°S to 1.5°N.  \n",
    "- For now, I’ll assume that 1° latitude between 1.5°S and 1.5°N is equal to 110 km (which is a good approximation for this exercise but not for the final computer program).  \n",
    "\n",
    "The EUC volume transport = (3°) x (110 km) x (150 m) x (0.5 m s*-1) = 24.75 x 10*6 m*3 s*-1 = 24.75 Sv.\n",
    "\n",
    "Let this EUC transport (24.75 Sv) be constant at all longitudes from 140°E to 80°W.  Please make a plot of the longitudinal distribution of the EUC transport.\n"
   ]
  },
  {
   "cell_type": "code",
   "execution_count": 3,
   "metadata": {},
   "outputs": [],
   "source": [
    "lon_arr = np.concatenate((np.arange(140,180),np.arange(-180,-79)),axis=0)\n",
    "lon = xr.DataArray(lon_arr,coords={'lon':lon_arr},dims=('lon',))"
   ]
  },
  {
   "cell_type": "code",
   "execution_count": 4,
   "metadata": {},
   "outputs": [],
   "source": [
    "lat_arr = np.arange(-1,2)\n",
    "lat = xr.DataArray(lat_arr,coords={'lat':lat_arr},dims=('lat',))"
   ]
  },
  {
   "cell_type": "code",
   "execution_count": 5,
   "metadata": {},
   "outputs": [],
   "source": [
    "deptharr = np.arange(1,200)-.5\n",
    "depth = xr.DataArray(deptharr,coords={'depth':deptharr},dims=('depth',))"
   ]
  },
  {
   "cell_type": "code",
   "execution_count": 6,
   "metadata": {},
   "outputs": [],
   "source": [
    "ds = xr.Dataset({'lon':lon,'lat':lat,'depth':depth})"
   ]
  },
  {
   "cell_type": "code",
   "execution_count": 7,
   "metadata": {},
   "outputs": [
    {
     "data": {
      "text/html": [
       "<pre>&lt;xarray.Dataset&gt;\n",
       "Dimensions:  (depth: 199, lat: 3, lon: 141)\n",
       "Coordinates:\n",
       "  * lon      (lon) int64 140 141 142 143 144 145 146 ... -85 -84 -83 -82 -81 -80\n",
       "  * lat      (lat) int64 -1 0 1\n",
       "  * depth    (depth) float64 0.5 1.5 2.5 3.5 4.5 ... 195.5 196.5 197.5 198.5\n",
       "Data variables:\n",
       "    *empty*</pre>"
      ],
      "text/plain": [
       "<xarray.Dataset>\n",
       "Dimensions:  (depth: 199, lat: 3, lon: 141)\n",
       "Coordinates:\n",
       "  * lon      (lon) int64 140 141 142 143 144 145 146 ... -85 -84 -83 -82 -81 -80\n",
       "  * lat      (lat) int64 -1 0 1\n",
       "  * depth    (depth) float64 0.5 1.5 2.5 3.5 4.5 ... 195.5 196.5 197.5 198.5\n",
       "Data variables:\n",
       "    *empty*"
      ]
     },
     "execution_count": 7,
     "metadata": {},
     "output_type": "execute_result"
    }
   ],
   "source": [
    "ds"
   ]
  },
  {
   "cell_type": "code",
   "execution_count": 8,
   "metadata": {},
   "outputs": [],
   "source": [
    "ds['dyG'] = xr.DataArray(np.array([110000,110000,110000]),coords=ds.lat.coords,dims=('lat',))"
   ]
  },
  {
   "cell_type": "code",
   "execution_count": 9,
   "metadata": {},
   "outputs": [],
   "source": [
    "ds['drF'] = xr.DataArray(np.array([1]*199),coords=ds.depth.coords,dims=('depth',))"
   ]
  },
  {
   "cell_type": "code",
   "execution_count": 10,
   "metadata": {},
   "outputs": [],
   "source": [
    "ds = ds.set_coords(['dyG','drF'])"
   ]
  },
  {
   "cell_type": "code",
   "execution_count": 11,
   "metadata": {},
   "outputs": [],
   "source": [
    "ds['uvel'] = xr.zeros_like(ds.depth*ds.lat*ds.lon)"
   ]
  },
  {
   "cell_type": "markdown",
   "metadata": {},
   "source": [
    "### Create the velocity profile\n",
    "\n",
    "- At the equator (0°), the vertical profile of the zonal velocity component is: \n",
    "    - 0.1 m s*-1 towards the west from the sea surface at 0 m to 20 m depth; \n",
    "    - 0.5 m s*-1 towards the east at 20-170 m depth interval; and \n",
    "    - 0.1 m s*-1 towards the west at depths greater than 170 m.  \n",
    "- Let’s assume that the identical velocity profile occurs at all latitudes from 1.5°S to 1.5°N.  "
   ]
  },
  {
   "cell_type": "code",
   "execution_count": 12,
   "metadata": {},
   "outputs": [],
   "source": [
    "ds['uprof'] = xr.where(ds.depth<20,-0.1,0.) + \\\n",
    "          xr.where((ds.depth>=20) & (ds.depth<170),0.5,0.) + \\\n",
    "          xr.where(ds.depth>=170,-0.1,0.)\n",
    "ds.uprof.attrs['units'] = 'm/s'"
   ]
  },
  {
   "cell_type": "code",
   "execution_count": 25,
   "metadata": {},
   "outputs": [
    {
     "data": {
      "image/png": "[encoded data removed]",
      "text/plain": [
       "<Figure size 432x288 with 1 Axes>"
      ]
     },
     "metadata": {
      "needs_background": "light"
     },
     "output_type": "display_data"
    }
   ],
   "source": [
    "ds.uprof.plot(y='depth',yincrease=False)\n",
    "plt.xlabel('U [m/s]')\n",
    "plt.ylabel('Depth (m)')\n",
    "plt.title('Zonal Velocity Profile')\n",
    "plt.savefig(f'{fig_dir}/simple_zonal_velocity_profile.png',bbox_inches='tight')"
   ]
  },
  {
   "cell_type": "markdown",
   "metadata": {},
   "source": [
    "### \"Broadcast\" this profile to latitudes and longitudes in the domain\n",
    "\n",
    "Show a plot at two random places as verification"
   ]
  },
  {
   "cell_type": "code",
   "execution_count": 26,
   "metadata": {},
   "outputs": [],
   "source": [
    "ds['uvel'],_ = xr.broadcast(ds.uprof,ds.lat*ds.lon)\n",
    "ds.uvel.attrs['units'] = 'm/s'"
   ]
  },
  {
   "cell_type": "code",
   "execution_count": 27,
   "metadata": {},
   "outputs": [
    {
     "data": {
      "text/plain": [
       "<matplotlib.collections.QuadMesh at 0x1501417c2b90>"
      ]
     },
     "execution_count": 27,
     "metadata": {},
     "output_type": "execute_result"
    },
    {
     "data": {
      "image/png": "[encoded data removed]",
      "text/plain": [
       "<Figure size 1296x432 with 4 Axes>"
      ]
     },
     "metadata": {
      "needs_background": "light"
     },
     "output_type": "display_data"
    }
   ],
   "source": [
    "fig,axs = plt.subplots(1,2,figsize=(18,6),sharey=True)\n",
    "ds.uvel.sel(lon=170).plot(ax=axs[0],yincrease=False)\n",
    "ds.uvel.sel(lon=-90).plot(ax=axs[1],yincrease=False)"
   ]
  },
  {
   "cell_type": "markdown",
   "metadata": {},
   "source": [
    "### The EUC transport per unit width is (150 m) x (0.5 m s*-1) = 75 m*2 s*-1.  \n",
    "\n",
    "Plot below verifies this..."
   ]
  },
  {
   "cell_type": "code",
   "execution_count": 28,
   "metadata": {},
   "outputs": [],
   "source": [
    "ds['trsp_per_width'] = (ds['uvel']*ds['drF']).where(ds.uvel>0).sum('depth')\n",
    "ds.trsp_per_width.attrs['units'] = 'm^2/s'"
   ]
  },
  {
   "cell_type": "code",
   "execution_count": 29,
   "metadata": {},
   "outputs": [
    {
     "data": {
      "text/plain": [
       "[<matplotlib.lines.Line2D at 0x150141713b50>]"
      ]
     },
     "execution_count": 29,
     "metadata": {},
     "output_type": "execute_result"
    },
    {
     "data": {
      "image/png": "[encoded data removed]",
      "text/plain": [
       "<Figure size 432x288 with 1 Axes>"
      ]
     },
     "metadata": {
      "needs_background": "light"
     },
     "output_type": "display_data"
    }
   ],
   "source": [
    "ds.trsp_per_width.sel(lon=140).plot()"
   ]
  },
  {
   "cell_type": "code",
   "execution_count": 30,
   "metadata": {},
   "outputs": [],
   "source": [
    "ds['trsp'] = ds['uvel']*ds['drF']*ds['dyG']"
   ]
  },
  {
   "cell_type": "code",
   "execution_count": 31,
   "metadata": {},
   "outputs": [],
   "source": [
    "euc = ds['trsp'].where(ds.uvel>0).sum(['lat','depth']) / 1e6\n",
    "euc.attrs['units']='Sv'"
   ]
  },
  {
   "cell_type": "code",
   "execution_count": 33,
   "metadata": {},
   "outputs": [],
   "source": [
    "def euc_plot(xda,xcoord='XG',ax=None,xskip=10):\n",
    "    \n",
    "    if ax is None:\n",
    "        fig,ax = plt.subplots(1,1)\n",
    "    x=xda[xcoord]\n",
    "    \n",
    "    xbds = [140,-80]\n",
    "    # Grab Pacific\n",
    "    xda = xda.where((x<=xbds[0])|(x>=xbds[1]),drop=True)\n",
    "    x_split=xda[xcoord]\n",
    "    xda[xcoord]=xr.where(xda[xcoord]<=0,360+xda[xcoord],xda[xcoord])\n",
    "    xda = xda.sortby(xcoord)\n",
    "    \n",
    "    xda.plot(ax=ax)\n",
    "    \n",
    "    xlbl = [f'{xx}' for xx in np.concatenate([np.arange(xbds[0],181),np.arange(-179,xbds[1])])]\n",
    "    x_slice = slice(None,None,xskip)\n",
    "    ax.xaxis.set_ticks(xda[xcoord].values[x_slice])\n",
    "    ax.xaxis.set_ticklabels(xlbl[x_slice])\n",
    "    ax.set_xlim([xbds[0],xbds[1]+360])\n",
    "    \n",
    "    return ax"
   ]
  },
  {
   "cell_type": "code",
   "execution_count": 34,
   "metadata": {},
   "outputs": [
    {
     "data": {
      "image/png": "[encoded data removed]",
      "text/plain": [
       "<Figure size 1296x432 with 1 Axes>"
      ]
     },
     "metadata": {
      "needs_background": "light"
     },
     "output_type": "display_data"
    }
   ],
   "source": [
    "fig,ax = plt.subplots(1,1,figsize=(18,6))\n",
    "euc_plot(euc,xcoord='lon',ax=ax)\n",
    "plt.title(f'EUC:  {euc[0].values} {euc.attrs[\"units\"]}')\n",
    "plt.savefig(f'{fig_dir}/simplified_euc.png',bbox_inches='tight')"
   ]
  },
  {
   "cell_type": "markdown",
   "metadata": {},
   "source": [
    "## Part 2: The LLC90 grid with telescoping refinement near the equator\n",
    "\n",
    "The next thought-experiment calculation will provide me with a greater appreciation of the ECCOv4r4 horizontal grid spacing, which, I believe, has a 1° x 1° horizontal grid spacing. \n",
    "\n",
    "In the latitudinal direction, where are the grid points? \n",
    "For example, are 0° and 1° at grid points or are 0.5° and 1.5° at grid points?  \n",
    "\n",
    "If 0° is a grid point, then is the ECCOv4r4 value of the zonal current at a specific depth, say 20 m, constant from 0.5°S to 0.5°N?"
   ]
  },
  {
   "cell_type": "code",
   "execution_count": null,
   "metadata": {},
   "outputs": [],
   "source": []
  }
 ],
 "metadata": {
  "kernelspec": {
   "display_name": "py37_tim",
   "language": "python",
   "name": "py37_tim"
  },
  "language_info": {
   "codemirror_mode": {
    "name": "ipython",
    "version": 3
   },
   "file_extension": ".py",
   "mimetype": "text/x-python",
   "name": "python",
   "nbconvert_exporter": "python",
   "pygments_lexer": "ipython3",
   "version": "3.7.6"
  }
 },
 "nbformat": 4,
 "nbformat_minor": 4
}
