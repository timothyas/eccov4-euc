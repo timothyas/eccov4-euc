{
 "cells": [
  {
   "cell_type": "markdown",
   "metadata": {},
   "source": [
    "# Compute Equatorial Upwelling Current from ECCO version 4 release 4"
   ]
  },
  {
   "cell_type": "code",
   "execution_count": 1,
   "metadata": {},
   "outputs": [],
   "source": [
    "from glob import glob\n",
    "import warnings\n",
    "import numpy as np\n",
    "import matplotlib.pyplot as plt\n",
    "import xarray as xr\n",
    "from xgcm import Grid\n",
    "import ecco_v4_py as ecco\n",
    "import pych.ecco as pe"
   ]
  },
  {
   "cell_type": "code",
   "execution_count": 2,
   "metadata": {},
   "outputs": [],
   "source": [
    "uvel_download_dir = '/workspace/ecco/release4/nctiles_monthly/UVELMASS/*/*.nc'\n",
    "vvel_download_dir = '/workspace/ecco/release4/nctiles_monthly/VVELMASS/*/*.nc'"
   ]
  },
  {
   "cell_type": "code",
   "execution_count": 3,
   "metadata": {},
   "outputs": [],
   "source": [
    "grid_dir = '/workspace/grids/llc90/'"
   ]
  },
  {
   "cell_type": "code",
   "execution_count": 4,
   "metadata": {},
   "outputs": [],
   "source": [
    "ds = xr.open_mfdataset(glob(uvel_download_dir)+glob(vvel_download_dir))"
   ]
  },
  {
   "cell_type": "code",
   "execution_count": 5,
   "metadata": {},
   "outputs": [
    {
     "name": "stderr",
     "output_type": "stream",
     "text": [
      "/workspace/xmitgcm/xmitgcm/mds_store.py:850: UserWarning: Couldn't find available_diagnostics.log in /workspace/grids/llc90/ or /workspace/grids/llc90/. Using default version.\n",
      "  \"in %s or %s. Using default version.\" % (data_dir, grid_dir))\n"
     ]
    }
   ],
   "source": [
    "g = pe.read_mds(grid_dir,iters=None)"
   ]
  },
  {
   "cell_type": "markdown",
   "metadata": {},
   "source": [
    "## Create mask defining the Equatorial Upwelling Current (EUC)\n",
    "\n",
    "Consider the region $140^\\circ$E-$80^\\circ$W, $1.5^\\circ$S-$1.5^\\circ$N, from the surface to 400m depth."
   ]
  },
  {
   "cell_type": "code",
   "execution_count": 6,
   "metadata": {},
   "outputs": [],
   "source": [
    "lon_left = np.arange(140,180,1)\n",
    "lon_right = np.arange(-180,-79.5,1)"
   ]
  },
  {
   "cell_type": "code",
   "execution_count": 7,
   "metadata": {},
   "outputs": [],
   "source": [
    "lon_list = np.concatenate((lon_left,lon_right))"
   ]
  },
  {
   "cell_type": "code",
   "execution_count": 8,
   "metadata": {},
   "outputs": [],
   "source": [
    "for fld in ['drF','dyG','dxG','XC']:\n",
    "    ds[fld] = g[fld]\n",
    "    ds = ds.set_coords(fld)"
   ]
  },
  {
   "cell_type": "code",
   "execution_count": 9,
   "metadata": {},
   "outputs": [],
   "source": [
    "ds['UVELMASS'] = ds.UVELMASS.where(ds.Z>-400)\n",
    "ds['VVELMASS'] = ds.VVELMASS.where(ds.Z>-400)"
   ]
  },
  {
   "cell_type": "markdown",
   "metadata": {},
   "source": [
    "### Load some often used coordinates to memory"
   ]
  },
  {
   "cell_type": "code",
   "execution_count": 10,
   "metadata": {},
   "outputs": [],
   "source": [
    "ds['dyG'].load();\n",
    "ds['dxG'].load();\n",
    "ds['drF'].load();\n",
    "ds['XC'].load();\n",
    "ds['YC'].load();"
   ]
  },
  {
   "cell_type": "code",
   "execution_count": 11,
   "metadata": {},
   "outputs": [],
   "source": [
    "grid = ecco.get_llc_grid(ds)"
   ]
  },
  {
   "cell_type": "code",
   "execution_count": 12,
   "metadata": {},
   "outputs": [],
   "source": [
    "def calc_euc(ds,pt1,pt2,grid):\n",
    "    \n",
    "    maskW,maskS = ecco.calc_section_trsp._parse_section_trsp_inputs(ds,pt1,pt2,None,None,'EUC')\n",
    "    \n",
    "    # Get surface area for transport\n",
    "    area_x = ds['drF']*ds['dyG']*maskW\n",
    "    area_y = ds['drF']*ds['dxG']*maskS\n",
    "    \n",
    "    # Get volumetric transport at grid cell\n",
    "    xvol = ds['UVELMASS']*area_x\n",
    "    yvol = ds['VVELMASS']*area_y\n",
    "    \n",
    "    # Compute cross sectional area as a function of time\n",
    "    area_x_t = xr.where(ds['UVELMASS']!=0,xvol/ds['UVELMASS'],0.)\n",
    "    area_y_t = xr.where(ds['VVELMASS']!=0,yvol/ds['VVELMASS'],0.)\n",
    "    \n",
    "    # initialize ds\n",
    "    trsp_ds = ecco.calc_section_trsp._initialize_section_trsp_data_array(ds)\n",
    "    \n",
    "    # Integrate, only consider U>0\n",
    "    # Note: I know this condition is OK because after multiplying by the masks above,\n",
    "    # both xvol and yvol should be >0 for U>0 on the tiles in consideration here\n",
    "    trsp_x = xvol.where(xvol>0).sum(dim=['i_g','j','tile','k'])\n",
    "    trsp_y = yvol.where(yvol>0).sum(dim=['i','j_g','tile','k'])\n",
    "    trsp_ds['trsp'] = (trsp_x + trsp_y)* (10**-6)\n",
    "    trsp_ds['trsp'].attrs['units'] = 'Sv'\n",
    "    trsp_ds['maskW'] = maskW\n",
    "    trsp_ds['maskS'] = maskS\n",
    "    \n",
    "    return trsp_ds"
   ]
  },
  {
   "cell_type": "markdown",
   "metadata": {},
   "source": [
    "### Make a container dataset for EUC transport as a function of time and longitude\n",
    "\n",
    "with field 'trsp' as zeros for now."
   ]
  },
  {
   "cell_type": "code",
   "execution_count": 13,
   "metadata": {},
   "outputs": [],
   "source": [
    "euc=xr.Dataset()\n",
    "euc['lon'] = np.array(lon_list)\n",
    "euc['time'] = ds['time']"
   ]
  },
  {
   "cell_type": "code",
   "execution_count": 14,
   "metadata": {},
   "outputs": [],
   "source": [
    "for fld in ['trsp']:\n",
    "    euc[fld] = xr.zeros_like(xr.broadcast(euc.time,euc.lon)[0],dtype=np.dtype('float64'))\n",
    "    euc[fld].attrs={}"
   ]
  },
  {
   "cell_type": "code",
   "execution_count": 15,
   "metadata": {},
   "outputs": [],
   "source": [
    "ds['UVELMASS'] = ds.UVELMASS.chunk((12,50,13,90,90))\n",
    "ds['VVELMASS'] = ds.VVELMASS.chunk((12,50,13,90,90))"
   ]
  },
  {
   "cell_type": "code",
   "execution_count": null,
   "metadata": {},
   "outputs": [],
   "source": [
    "%%time\n",
    "for i,lon in enumerate(lon_list):\n",
    "    pt1 = [lon,1.5]\n",
    "    pt2 = [lon,-1.5]\n",
    "    with warnings.catch_warnings():\n",
    "        warnings.filterwarnings('ignore')\n",
    "        trsp_ds = calc_euc(ds,pt1=pt1,pt2=pt2,grid=grid)\n",
    "        for fld in ['trsp']:\n",
    "            euc[fld].loc[{'lon':lon}] = trsp_ds[fld].values\n",
    "            euc[fld].attrs = trsp_ds[fld].attrs\n",
    "    print(f' --- Done: {i}/{len(lon_list)} --- ')"
   ]
  },
  {
   "cell_type": "code",
   "execution_count": null,
   "metadata": {},
   "outputs": [],
   "source": [
    "euc.to_netcdf('/workspace/results/eccov4r4/equatorial-upwelling-current/euc_eccov4r4.nc')"
   ]
  },
  {
   "cell_type": "code",
   "execution_count": null,
   "metadata": {},
   "outputs": [],
   "source": [
    "lon_index = np.arange(len(euc.lon))"
   ]
  },
  {
   "cell_type": "code",
   "execution_count": null,
   "metadata": {},
   "outputs": [],
   "source": [
    "lon_label_e = [f'{int(l)}$^\\circ$E' for l in euc.lon.where(euc.lon>0,drop=True).values]\n",
    "lon_label_w = [f'{-int(l)}$^\\circ$W' for l in euc.lon.where(euc.lon<0,drop=True).values]"
   ]
  },
  {
   "cell_type": "code",
   "execution_count": null,
   "metadata": {},
   "outputs": [],
   "source": [
    "lon_label = lon_label_e+lon_label_w"
   ]
  },
  {
   "cell_type": "markdown",
   "metadata": {},
   "source": [
    "## For plot, select 1993-2017"
   ]
  },
  {
   "cell_type": "code",
   "execution_count": null,
   "metadata": {},
   "outputs": [],
   "source": [
    "euc_mean = euc['trsp'].sel(time=slice('1993','2017')).mean(dim='time')\n",
    "euc_std = euc['trsp'].sel(time=slice('1993','2017')).std(dim='time')"
   ]
  },
  {
   "cell_type": "code",
   "execution_count": null,
   "metadata": {},
   "outputs": [],
   "source": [
    "fig,ax = plt.subplots(1,1,figsize=(15,6))\n",
    "\n",
    "ax.plot(lon_index,euc_mean,'k')\n",
    "ax.fill_between(lon_index,euc_mean-euc_std,euc_mean+euc_std,alpha=.3,color='gray')\n",
    "plt.grid();\n",
    "dx = 15\n",
    "ax.set_xticks(lon_index[slice(0,None,dx)])\n",
    "ax.set_xticklabels(lon_label[slice(0,None,dx)]);\n",
    "ax.set_ylabel('EUC Transport [Sv]')\n",
    "ax.set_title('EUC Transport from ECCOv4r4, 1993-2017\\ntime mean $\\pm$ standard deviation [Sv]')\n",
    "ax.set_xlabel('Longitude');\n",
    "fig.savefig('/workspace/results/eccov4r4/equatorial-upwelling-current/euc_timemean_eccov4r4.png',bbox_inches='tight',dpi=300)"
   ]
  },
  {
   "cell_type": "markdown",
   "metadata": {},
   "source": [
    "## Make dataset nice and save to a couple different formats"
   ]
  },
  {
   "cell_type": "code",
   "execution_count": null,
   "metadata": {},
   "outputs": [],
   "source": [
    "euc['lon_index'] = lon_index\n",
    "euc['lon_label'] = lon_label"
   ]
  },
  {
   "cell_type": "code",
   "execution_count": null,
   "metadata": {},
   "outputs": [],
   "source": [
    "euc['trsp'].attrs['long_name'] = 'Equatorial Under Current (EUC)'\n",
    "euc['trsp'].attrs['Definition'] = 'Monthly (positive only, eastward) zonal velocity integrated 0-400m depth, 1.5S to 1.5N'\n",
    "euc.attrs['Description'] = 'EUC from ECCOv4r4, computed by Tim Smith'"
   ]
  },
  {
   "cell_type": "code",
   "execution_count": null,
   "metadata": {},
   "outputs": [],
   "source": [
    "euc.to_netcdf('/workspace/results/eccov4r4/equatorial-upwelling-current/euc_eccov4r4.nc')"
   ]
  },
  {
   "cell_type": "code",
   "execution_count": null,
   "metadata": {},
   "outputs": [],
   "source": [
    "df = euc['trsp'].sel(time=slice('1993','2017')).mean('time').to_dataframe()"
   ]
  },
  {
   "cell_type": "code",
   "execution_count": null,
   "metadata": {},
   "outputs": [],
   "source": [
    "df.to_csv('/workspace/results/eccov4r4/equatorial-upwelling-current/euc_eccov4r4_timemean_1993-2017.csv')"
   ]
  },
  {
   "cell_type": "code",
   "execution_count": null,
   "metadata": {},
   "outputs": [],
   "source": []
  }
 ],
 "metadata": {
  "kernelspec": {
   "display_name": "Python 3",
   "language": "python",
   "name": "python3"
  },
  "language_info": {
   "codemirror_mode": {
    "name": "ipython",
    "version": 3
   },
   "file_extension": ".py",
   "mimetype": "text/x-python",
   "name": "python",
   "nbconvert_exporter": "python",
   "pygments_lexer": "ipython3",
   "version": "3.6.6"
  }
 },
 "nbformat": 4,
 "nbformat_minor": 2
}
