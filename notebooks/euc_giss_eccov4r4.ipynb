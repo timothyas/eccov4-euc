{
 "cells": [
  {
   "cell_type": "markdown",
   "metadata": {},
   "source": [
    "# EUC 1993-2017: ECCOv4r4, GISS-G, and GISS-H"
   ]
  },
  {
   "cell_type": "code",
   "execution_count": 1,
   "metadata": {},
   "outputs": [],
   "source": [
    "import os \n",
    "import numpy as np\n",
    "import matplotlib.pyplot as plt\n",
    "import xarray as xr\n",
    "from xgcm import Grid\n",
    "from pych.calc import haversine"
   ]
  },
  {
   "cell_type": "code",
   "execution_count": 2,
   "metadata": {},
   "outputs": [],
   "source": [
    "ecco = xr.open_dataset('/workspace/results/eccov4r4/equatorial-under-current/euc_eccov4r4.nc')\n",
    "gissg = xr.open_dataset('/workspace/results/giss-euc/giss_g.nc')\n",
    "gissh = xr.open_dataset('/workspace/results/giss-euc/giss_h.nc')"
   ]
  },
  {
   "cell_type": "markdown",
   "metadata": {},
   "source": [
    "### EUC: zonal transport where U>0, integrated 0->400m, 1.5S to 1.5N\n",
    "\n",
    "Here averaged over 1993-2017"
   ]
  },
  {
   "cell_type": "code",
   "execution_count": 3,
   "metadata": {},
   "outputs": [],
   "source": [
    "def convert_m3_to_sv(xda):\n",
    "    if 'units' in xda.attrs:\n",
    "        if xda.attrs['units'] == 'Sv':\n",
    "            return xda\n",
    "    xda *= 1e-6\n",
    "    xda.attrs['units']='Sv'\n",
    "    return xda.copy(deep=True)"
   ]
  },
  {
   "cell_type": "code",
   "execution_count": 4,
   "metadata": {},
   "outputs": [
    {
     "name": "stderr",
     "output_type": "stream",
     "text": [
      "/workspace/anaconda3/envs/py37_tim/lib/python3.7/site-packages/xarray/core/nanops.py:142: RuntimeWarning: Mean of empty slice\n",
      "  return np.nanmean(a, axis=axis, dtype=dtype)\n"
     ]
    }
   ],
   "source": [
    "gissg['ubar']=gissg['u'].sel(time=slice('1993','2017')).mean('time')\n",
    "gissg['trsp_x'] = gissg['ubar']*gissg['drF']*gissg['dyG']\n",
    "\n",
    "# all of the full cells\n",
    "kbot = 15\n",
    "gissg['euc'] = gissg['trsp_x'].where(gissg['ubar']>0,0.).sel(YC=slice(-1.25,1.25)).isel(Z=slice(0,kbot)).sum(['YC','Z'])\n",
    "\n",
    "# get half the transport at latitudinal bounds, only full vertical depth points\n",
    "gissg['euc'] += 0.5*gissg['trsp_x'].where(gissg['ubar']>0,0.).sel(YC=-1.5).isel(Z=slice(0,kbot)).sum('Z')\n",
    "gissg['euc'] += 0.5*gissg['trsp_x'].where(gissg['ubar']>0,0.).sel(YC=1.5).isel(Z=slice(0,kbot)).sum('Z')\n",
    "\n",
    "# get full latitudinal cells, fraction of bottom cell\n",
    "dz = (400-gissg.Zp1[kbot])/gissg.drF[kbot]\n",
    "gissg['euc'] += dz*gissg['trsp_x'].where(gissg['ubar']>0,0.).sel(YC=slice(-1.25,1.25)).isel(Z=kbot+1).sum(['YC'])\n",
    "\n",
    "# get half latitudinal bounds, and fraction of bottom cell\n",
    "gissg['euc'] += dz*0.5*gissg['trsp_x'].where(gissg['ubar']>0,0.).sel(YC=-1.5).isel(Z=kbot+1)\n",
    "gissg['euc'] += dz*0.5*gissg['trsp_x'].where(gissg['ubar']>0,0.).sel(YC=1.5).isel(Z=kbot+1)\n",
    "\n",
    "gissg['euc'] = convert_m3_to_sv(gissg['euc'])"
   ]
  },
  {
   "cell_type": "code",
   "execution_count": 5,
   "metadata": {},
   "outputs": [
    {
     "name": "stderr",
     "output_type": "stream",
     "text": [
      "/workspace/anaconda3/envs/py37_tim/lib/python3.7/site-packages/xarray/core/nanops.py:142: RuntimeWarning: Mean of empty slice\n",
      "  return np.nanmean(a, axis=axis, dtype=dtype)\n"
     ]
    }
   ],
   "source": [
    "gissh['ubar']=gissh['u'].sel(time=slice('1993','2017')).mean('time')\n",
    "gissh['trsp_x'] = gissh['ubar']*gissh['drF']*gissh['dyF']\n",
    "\n",
    "# all of the full cells\n",
    "kbot = 12\n",
    "gissh['euc'] = gissh['trsp_x'].where(gissh['ubar']>0,0.).sel(YC=slice(-1.25,1.25)).isel(Z=slice(0,kbot)).sum(['YC','Z'])\n",
    "\n",
    "# get half the transport at latitudinal bounds, only full vertical depth points\n",
    "gissh['euc'] += 0.5*gissh['trsp_x'].where(gissh['ubar']>0,0.).sel(YC=-1.5).isel(Z=slice(0,kbot)).sum('Z')\n",
    "gissh['euc'] += 0.5*gissh['trsp_x'].where(gissh['ubar']>0,0.).sel(YC=1.5).isel(Z=slice(0,kbot)).sum('Z')\n",
    "\n",
    "# get full latitudinal cells, fraction of bottom cell\n",
    "# gissH goes exactly to 400m in first 12 cells, so this is actually not necessary\n",
    "dz = (400-gissh.Zp1[kbot])/gissh.drF[kbot]\n",
    "gissh['euc'] += dz*gissh['trsp_x'].where(gissh['ubar']>0,0.).sel(YC=slice(-1.25,1.25)).isel(Z=kbot+1).sum(['YC'])\n",
    "\n",
    "# get half latitudinal bounds, and fraction of bottom cell\n",
    "gissh['euc'] += dz*0.5*gissh['trsp_x'].where(gissh['ubar']>0,0.).sel(YC=-1.5).isel(Z=kbot+1)\n",
    "gissh['euc'] += dz*0.5*gissh['trsp_x'].where(gissh['ubar']>0,0.).sel(YC=1.5).isel(Z=kbot+1)\n",
    "\n",
    "\n",
    "gissh['euc'] = convert_m3_to_sv(gissh['euc'])"
   ]
  },
  {
   "cell_type": "markdown",
   "metadata": {},
   "source": [
    "### GISS-H zonal velocity problems\n",
    "\n",
    "There are a few points where the velocity is O(10^30).\n",
    "Obviously this causes problems.\n",
    "\n",
    "Right now I'm simply ignore longitudes where these occur"
   ]
  },
  {
   "cell_type": "code",
   "execution_count": 6,
   "metadata": {},
   "outputs": [],
   "source": [
    "gissh['euc'] = xr.where(gissh.euc>1e20,np.NAN,gissh.euc)"
   ]
  },
  {
   "cell_type": "code",
   "execution_count": 7,
   "metadata": {},
   "outputs": [
    {
     "data": {
      "text/html": [
       "<pre>&lt;xarray.DataArray &#x27;euc&#x27; ()&gt;\n",
       "array(18)</pre>"
      ],
      "text/plain": [
       "<xarray.DataArray 'euc' ()>\n",
       "array(18)"
      ]
     },
     "execution_count": 7,
     "metadata": {},
     "output_type": "execute_result"
    }
   ],
   "source": [
    "np.isnan(gissh.euc).sum()"
   ]
  },
  {
   "cell_type": "code",
   "execution_count": 8,
   "metadata": {},
   "outputs": [],
   "source": [
    "from matplotlib.ticker import MultipleLocator"
   ]
  },
  {
   "cell_type": "code",
   "execution_count": 38,
   "metadata": {},
   "outputs": [],
   "source": [
    "def euc_plot(xda,xcoord='XG',ax=None,xskip=20,xminor_skip=10,yminor_skip=1):\n",
    "    \n",
    "    if ax is None:\n",
    "        fig,ax = plt.subplots(1,1)\n",
    "    x=xda[xcoord]\n",
    "    \n",
    "    xbds = [140,-80]\n",
    "    # Grab Pacific\n",
    "    xda = xda.where((x<=xbds[0])|(x>=xbds[1]),drop=True)\n",
    "    x_split=xda[xcoord]\n",
    "    xda[xcoord]=xr.where(xda[xcoord]<=0,360+xda[xcoord],xda[xcoord])\n",
    "    xda = xda.sortby(xcoord)\n",
    "    \n",
    "    xda.plot(ax=ax)\n",
    "    \n",
    "    xlabel_int = [xx for xx in np.concatenate([np.arange(xbds[0],181),np.arange(-179,xbds[1]+2)])]\n",
    "    xlbl=[]\n",
    "    for x in xlabel_int:\n",
    "        if x>0:\n",
    "            xlbl.append(r'%d$^\\circ$E' % x)\n",
    "        else:\n",
    "            xlbl.append(r'%s$^\\circ$W' % -x)\n",
    "    x_slice = slice(None,None,xskip)\n",
    "    ax.xaxis.set_ticks(xda[xcoord].values[x_slice])\n",
    "    ax.xaxis.set_ticklabels(xlbl[x_slice])\n",
    "    ax.xaxis.set_minor_locator(MultipleLocator(xminor_skip))\n",
    "    ax.yaxis.set_minor_locator(MultipleLocator(yminor_skip))\n",
    "    ax.set_xlim([xbds[0],xbds[1]+360])\n",
    "    \n",
    "    return ax"
   ]
  },
  {
   "cell_type": "code",
   "execution_count": 31,
   "metadata": {},
   "outputs": [],
   "source": [
    "plt.rcParams.update({'figure.figsize':(18,6),'font.size':18,'text.usetex':True})"
   ]
  },
  {
   "cell_type": "code",
   "execution_count": 32,
   "metadata": {},
   "outputs": [],
   "source": [
    "fig_dir='/workspace/results/eccov4r4/equatorial-under-current/figures/'"
   ]
  },
  {
   "cell_type": "code",
   "execution_count": 33,
   "metadata": {},
   "outputs": [],
   "source": [
    "if not os.path.isdir(fig_dir):\n",
    "    os.makedirs(fig_dir)"
   ]
  },
  {
   "cell_type": "code",
   "execution_count": 45,
   "metadata": {},
   "outputs": [
    {
     "data": {
      "image/png": "[encoded data removed]",
      "text/plain": [
       "<Figure size 720x432 with 1 Axes>"
      ]
     },
     "metadata": {
      "needs_background": "light"
     },
     "output_type": "display_data"
    }
   ],
   "source": [
    "fig,ax = plt.subplots(1,1,figsize=(10,6))\n",
    "ax=euc_plot(gissg.euc,ax=ax)\n",
    "ax=euc_plot(gissh.euc,xcoord='XC',ax=ax)\n",
    "ax=euc_plot(ecco.trsp,xcoord='lon',ax=ax)\n",
    "ax.set_xlabel('')\n",
    "#ax.grid();\n",
    "ax.tick_params(direction='in',which='major',length=8,\n",
    "               top=True,right=True,pad=6)\n",
    "ax.tick_params(direction='in',which='minor',length=5,\n",
    "               top=True,right=True,pad=6)\n",
    "ax.legend(('E2.1-G','E2.1-H','ECCOv4r4'),loc='lower center',frameon=False)\n",
    "\n",
    "#          bbox_to_anchor=(1.04,0.5), loc=\"center left\", borderaxespad=0)\n",
    "#           bbox_to_anchor=(0,1.02,1,0.2), loc=\"lower left\",\n",
    "#           mode=\"expand\", borderaxespad=0, ncol=3)\n",
    "ax.set_title('Equatorial Undercurrent Transport\\nTime Mean 1993-2017',fontsize=20,pad=25);\n",
    "ax.set_ylabel('EUC Transport, Sv',fontsize=16)\n",
    "ax.set_ylim([0,35])\n",
    "fig.savefig(f'{fig_dir}/euc_comparison_1993-2017.png',dpi=300,\n",
    "            bbox_inches='tight',pad_inches=1)"
   ]
  },
  {
   "cell_type": "code",
   "execution_count": null,
   "metadata": {},
   "outputs": [],
   "source": []
  },
  {
   "cell_type": "code",
   "execution_count": null,
   "metadata": {},
   "outputs": [],
   "source": []
  }
 ],
 "metadata": {
  "kernelspec": {
   "display_name": "py37_tim",
   "language": "python",
   "name": "py37_tim"
  },
  "language_info": {
   "codemirror_mode": {
    "name": "ipython",
    "version": 3
   },
   "file_extension": ".py",
   "mimetype": "text/x-python",
   "name": "python",
   "nbconvert_exporter": "python",
   "pygments_lexer": "ipython3",
   "version": "3.7.6"
  }
 },
 "nbformat": 4,
 "nbformat_minor": 4
}
