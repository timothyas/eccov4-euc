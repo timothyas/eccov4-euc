{
 "cells": [
  {
   "cell_type": "markdown",
   "metadata": {},
   "source": [
    "# Save mds vector output with time series of all ADCP longitudes/depths"
   ]
  },
  {
   "cell_type": "code",
   "execution_count": 1,
   "metadata": {},
   "outputs": [],
   "source": [
    "import os\n",
    "import numpy as np\n",
    "import matplotlib.pyplot as plt\n",
    "from xmitgcm import open_mdsdataset, utils\n",
    "from MITgcmutils import rdmds, wrmds\n",
    "import xarray as xr\n",
    "from datetime import datetime, timedelta\n",
    "import pych.ecco as pe"
   ]
  },
  {
   "cell_type": "code",
   "execution_count": 2,
   "metadata": {},
   "outputs": [
    {
     "name": "stderr",
     "output_type": "stream",
     "text": [
      "/workspace/xmitgcm/xmitgcm/mds_store.py:854: UserWarning: Couldn't find available_diagnostics.log in /workspace/grids/llc90 or /workspace/grids/llc90. Using default version.\n",
      "  \"in %s or %s. Using default version.\" % (data_dir, grid_dir))\n"
     ]
    }
   ],
   "source": [
    "llc = pe.read_mds('/workspace/grids/llc90',iters=None)"
   ]
  },
  {
   "cell_type": "code",
   "execution_count": 15,
   "metadata": {},
   "outputs": [],
   "source": [
    "def get_single_timeseries(lon,klev,lon_list):\n",
    "    lonoffset = lon_list.index(lon)\n",
    "    kgen = lonoffset*22 + klev + 1\n",
    "    return np.squeeze(rdmds(f'../mdsfiles/uvel_all_lons/euc_out.{kgen:03}.0000000001'))"
   ]
  },
  {
   "cell_type": "code",
   "execution_count": 16,
   "metadata": {},
   "outputs": [],
   "source": [
    "def get_single_longitude(lon,lon_list):\n",
    "    all_depths = []\n",
    "    for k in range(22):\n",
    "        all_depths.append(get_single_timeseries(lon,k,lon_list))\n",
    "    return np.array(all_depths).T"
   ]
  },
  {
   "cell_type": "code",
   "execution_count": 17,
   "metadata": {},
   "outputs": [],
   "source": [
    "def get_all_longitudes(londict,lon_list):\n",
    "    all_lons = []\n",
    "    for key,val in londict.items():\n",
    "        arr = get_single_longitude(val,lon_list)\n",
    "        all_lons.append(arr)\n",
    "        \n",
    "    return np.stack(all_lons,axis=2)"
   ]
  },
  {
   "cell_type": "code",
   "execution_count": 18,
   "metadata": {},
   "outputs": [],
   "source": [
    "def get_uvel(arr=None):\n",
    "    \n",
    "    lonstrs = ['110W','140W','170W','165E','156E','147E']\n",
    "    longs = [-110,-140,-170,165,156,147]\n",
    "    lond = dict(zip(lonstrs,longs))\n",
    "    arr = get_all_longitudes(lond,longs) if arr is None else arr\n",
    "    \n",
    "    ntime = arr.shape[0]\n",
    "    ecco_time = np.array([np.datetime64(x) for x in datetime(1992,1,1,12)+(np.arange(ntime)+1)*timedelta(hours=1)])\n",
    "    time = xr.DataArray(ecco_time,coords={'time':ecco_time},dims=('time',),name='time')\n",
    "    longitude = xr.DataArray(np.array(longs),coords={'lon':np.array(longs)},dims=('lon',),name='lon')\n",
    "    z = llc['Z'][:22].copy().swap_dims({'k':'Z'})\n",
    "    depth = -z.rename({'Z':'depth'})\n",
    "    depth.attrs['long_name'] = 'Depth'\n",
    "    depth.attrs['units'] = 'm'\n",
    "    \n",
    "    uvel = xr.DataArray(arr,coords={'time':time,'depth':depth,'lon':longitude},dims=('time','depth','lon'),\n",
    "                        attrs={'descrption':'Hourly Zonal Velocity',\n",
    "                               'units':'m/s'})\n",
    "    \n",
    "    return uvel"
   ]
  },
  {
   "cell_type": "code",
   "execution_count": 19,
   "metadata": {},
   "outputs": [],
   "source": [
    "uvel = get_uvel()"
   ]
  },
  {
   "cell_type": "code",
   "execution_count": 24,
   "metadata": {},
   "outputs": [],
   "source": [
    "fname = '../ncfiles/eccov4r4_uvel.nc'"
   ]
  },
  {
   "cell_type": "code",
   "execution_count": 25,
   "metadata": {},
   "outputs": [],
   "source": [
    "uvel.to_netcdf(fname)"
   ]
  },
  {
   "cell_type": "code",
   "execution_count": null,
   "metadata": {},
   "outputs": [],
   "source": []
  }
 ],
 "metadata": {
  "kernelspec": {
   "display_name": "py37_tim",
   "language": "python",
   "name": "py37_tim"
  },
  "language_info": {
   "codemirror_mode": {
    "name": "ipython",
    "version": 3
   },
   "file_extension": ".py",
   "mimetype": "text/x-python",
   "name": "python",
   "nbconvert_exporter": "python",
   "pygments_lexer": "ipython3",
   "version": "3.7.6"
  }
 },
 "nbformat": 4,
 "nbformat_minor": 4
}
