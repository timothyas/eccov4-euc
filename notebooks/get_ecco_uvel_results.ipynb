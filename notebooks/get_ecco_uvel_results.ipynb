{
 "cells": [
  {
   "cell_type": "markdown",
   "metadata": {},
   "source": [
    "# Save mds vector output with time series of all ADCP longitudes/depths"
   ]
  },
  {
   "cell_type": "code",
   "execution_count": 53,
   "metadata": {},
   "outputs": [],
   "source": [
    "import os\n",
    "import numpy as np\n",
    "import matplotlib.pyplot as plt\n",
    "from xmitgcm import open_mdsdataset, utils\n",
    "from MITgcmutils import rdmds, wrmds\n",
    "import xarray as xr\n",
    "from datetime import datetime, timedelta\n",
    "import pych.ecco as pe"
   ]
  },
  {
   "cell_type": "code",
   "execution_count": 55,
   "metadata": {},
   "outputs": [
    {
     "name": "stderr",
     "output_type": "stream",
     "text": [
      "/workspace/xmitgcm/xmitgcm/mds_store.py:854: UserWarning: Couldn't find available_diagnostics.log in /workspace/grids/llc90 or /workspace/grids/llc90. Using default version.\n",
      "  \"in %s or %s. Using default version.\" % (data_dir, grid_dir))\n"
     ]
    }
   ],
   "source": [
    "llc = pe.read_mds('/workspace/grids/llc90',iters=None)"
   ]
  },
  {
   "cell_type": "code",
   "execution_count": 48,
   "metadata": {},
   "outputs": [],
   "source": [
    "def get_single_timeseries(lon,klev):\n",
    "    lonoffset = longs.index(lon)\n",
    "    kgen = lonoffset*22 + klev + 1\n",
    "    return np.squeeze(rdmds(f'../mdsfiles/uvel_all_lons/euc_out.{kgen:03}.0000000001',rec=np.arange(14478)))"
   ]
  },
  {
   "cell_type": "code",
   "execution_count": 49,
   "metadata": {},
   "outputs": [],
   "source": [
    "def get_single_longitude(lon):\n",
    "    all_depths = []\n",
    "    for k in range(22):\n",
    "        all_depths.append(get_single_timeseries(lon,k))\n",
    "    return np.array(all_depths).T"
   ]
  },
  {
   "cell_type": "code",
   "execution_count": 50,
   "metadata": {},
   "outputs": [],
   "source": [
    "def get_all_longitudes(londict):\n",
    "    all_lons = []\n",
    "    for key,val in londict.items():\n",
    "        arr = get_single_longitude(val)\n",
    "        print(arr.shape)\n",
    "        all_lons.append(arr)\n",
    "        \n",
    "    return np.stack(all_lons,axis=2)"
   ]
  },
  {
   "cell_type": "code",
   "execution_count": 51,
   "metadata": {},
   "outputs": [
    {
     "name": "stdout",
     "output_type": "stream",
     "text": [
      "(14478, 22)\n",
      "(14478, 22)\n",
      "(14478, 22)\n",
      "(14478, 22)\n",
      "(14478, 22)\n",
      "(14478, 22)\n"
     ]
    }
   ],
   "source": [
    "test = get_all_longitudes(lond)"
   ]
  },
  {
   "cell_type": "code",
   "execution_count": 76,
   "metadata": {},
   "outputs": [
    {
     "data": {
      "text/html": [
       "<pre>&lt;xarray.DataArray &#x27;Z&#x27; (k: 50)&gt;\n",
       "array([-5.000000e+00, -1.500000e+01, -2.500000e+01, -3.500000e+01,\n",
       "       -4.500000e+01, -5.500000e+01, -6.500000e+01, -7.500500e+01,\n",
       "       -8.502500e+01, -9.509500e+01, -1.053100e+02, -1.158700e+02,\n",
       "       -1.271500e+02, -1.397400e+02, -1.544700e+02, -1.724000e+02,\n",
       "       -1.947350e+02, -2.227100e+02, -2.574700e+02, -2.999300e+02,\n",
       "       -3.506800e+02, -4.099300e+02, -4.774700e+02, -5.527100e+02,\n",
       "       -6.347350e+02, -7.224000e+02, -8.144700e+02, -9.097400e+02,\n",
       "       -1.007155e+03, -1.105905e+03, -1.205535e+03, -1.306205e+03,\n",
       "       -1.409150e+03, -1.517095e+03, -1.634175e+03, -1.765135e+03,\n",
       "       -1.914150e+03, -2.084035e+03, -2.276225e+03, -2.491250e+03,\n",
       "       -2.729250e+03, -2.990250e+03, -3.274250e+03, -3.581250e+03,\n",
       "       -3.911250e+03, -4.264250e+03, -4.640250e+03, -5.039250e+03,\n",
       "       -5.461250e+03, -5.906250e+03])\n",
       "Coordinates:\n",
       "  * k        (k) int64 0 1 2 3 4 5 6 7 8 9 10 ... 40 41 42 43 44 45 46 47 48 49\n",
       "    Z        (k) &gt;f8 -5.0 -15.0 -25.0 -35.0 ... -5.039e+03 -5.461e+03 -5.906e+03\n",
       "    drF      (k) &gt;f8 10.0 10.0 10.0 10.0 10.0 ... 364.5 387.5 410.5 433.5 456.5\n",
       "    PHrefC   (k) &gt;f4 49.05 147.15 245.25 ... 49435.043 53574.863 57940.312\n",
       "Attributes:\n",
       "    standard_name:  depth\n",
       "    long_name:      vertical coordinate of cell center\n",
       "    units:          m\n",
       "    positive:       down</pre>"
      ],
      "text/plain": [
       "<xarray.DataArray 'Z' (k: 50)>\n",
       "array([-5.000000e+00, -1.500000e+01, -2.500000e+01, -3.500000e+01,\n",
       "       -4.500000e+01, -5.500000e+01, -6.500000e+01, -7.500500e+01,\n",
       "       -8.502500e+01, -9.509500e+01, -1.053100e+02, -1.158700e+02,\n",
       "       -1.271500e+02, -1.397400e+02, -1.544700e+02, -1.724000e+02,\n",
       "       -1.947350e+02, -2.227100e+02, -2.574700e+02, -2.999300e+02,\n",
       "       -3.506800e+02, -4.099300e+02, -4.774700e+02, -5.527100e+02,\n",
       "       -6.347350e+02, -7.224000e+02, -8.144700e+02, -9.097400e+02,\n",
       "       -1.007155e+03, -1.105905e+03, -1.205535e+03, -1.306205e+03,\n",
       "       -1.409150e+03, -1.517095e+03, -1.634175e+03, -1.765135e+03,\n",
       "       -1.914150e+03, -2.084035e+03, -2.276225e+03, -2.491250e+03,\n",
       "       -2.729250e+03, -2.990250e+03, -3.274250e+03, -3.581250e+03,\n",
       "       -3.911250e+03, -4.264250e+03, -4.640250e+03, -5.039250e+03,\n",
       "       -5.461250e+03, -5.906250e+03])\n",
       "Coordinates:\n",
       "  * k        (k) int64 0 1 2 3 4 5 6 7 8 9 10 ... 40 41 42 43 44 45 46 47 48 49\n",
       "    Z        (k) >f8 -5.0 -15.0 -25.0 -35.0 ... -5.039e+03 -5.461e+03 -5.906e+03\n",
       "    drF      (k) >f8 10.0 10.0 10.0 10.0 10.0 ... 364.5 387.5 410.5 433.5 456.5\n",
       "    PHrefC   (k) >f4 49.05 147.15 245.25 ... 49435.043 53574.863 57940.312\n",
       "Attributes:\n",
       "    standard_name:  depth\n",
       "    long_name:      vertical coordinate of cell center\n",
       "    units:          m\n",
       "    positive:       down"
      ]
     },
     "execution_count": 76,
     "metadata": {},
     "output_type": "execute_result"
    }
   ],
   "source": [
    "llc['Z']"
   ]
  },
  {
   "cell_type": "code",
   "execution_count": 82,
   "metadata": {},
   "outputs": [],
   "source": [
    "def get_uvel(arr=None):\n",
    "    \n",
    "    lonstrs = ['110W','140W','170W','165E','156E','147E']\n",
    "    longs = [-110,-140,-170,165,156,147]\n",
    "    lond = dict(zip(lonstrs,longs))\n",
    "    arr = get_all_longitudes(lond) if arr is None else arr\n",
    "    \n",
    "    ntime = arr.shape[0]\n",
    "    ecco_time = np.array([np.datetime64(x) for x in datetime(1992,1,1,12)+(np.arange(ntime)+1)*timedelta(hours=1)])\n",
    "    time = xr.DataArray(ecco_time,coords={'time':ecco_time},dims=('time',),name='time')\n",
    "    longitude = xr.DataArray(np.array(longs),coords={'lon':np.array(longs)},dims=('lon',),name='lon')\n",
    "    z = llc['Z'][:22].copy().swap_dims({'k':'Z'})\n",
    "    depth = -z.rename({'Z':'depth'})\n",
    "    depth.attrs['long_name'] = 'Depth'\n",
    "    depth.attrs['units'] = 'm'\n",
    "    \n",
    "    uvel = xr.DataArray(arr,coords={'time':time,'depth':depth,'lon':longitude},dims=('time','depth','lon'),\n",
    "                        attrs={'descrption':'Hourly Zonal Velocity',\n",
    "                               'units':'m/s'})\n",
    "    \n",
    "    return uvel"
   ]
  },
  {
   "cell_type": "code",
   "execution_count": 83,
   "metadata": {},
   "outputs": [],
   "source": [
    "uvel = get_uvel(test)"
   ]
  },
  {
   "cell_type": "code",
   "execution_count": 85,
   "metadata": {},
   "outputs": [],
   "source": [
    "fname = '../ncfiles/eccov4r4_uvel_short.nc'"
   ]
  },
  {
   "cell_type": "code",
   "execution_count": 86,
   "metadata": {},
   "outputs": [],
   "source": [
    "uvel.to_netcdf(fname)"
   ]
  },
  {
   "cell_type": "code",
   "execution_count": null,
   "metadata": {},
   "outputs": [],
   "source": []
  }
 ],
 "metadata": {
  "kernelspec": {
   "display_name": "py37_tim",
   "language": "python",
   "name": "py37_tim"
  },
  "language_info": {
   "codemirror_mode": {
    "name": "ipython",
    "version": 3
   },
   "file_extension": ".py",
   "mimetype": "text/x-python",
   "name": "python",
   "nbconvert_exporter": "python",
   "pygments_lexer": "ipython3",
   "version": "3.7.6"
  }
 },
 "nbformat": 4,
 "nbformat_minor": 4
}
