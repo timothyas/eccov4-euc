{
 "cells": [
  {
   "cell_type": "markdown",
   "metadata": {},
   "source": [
    "# Create masks for 140W: EUC, uvel at 75m equator, vvel at 75m equator"
   ]
  },
  {
   "cell_type": "code",
   "execution_count": 1,
   "metadata": {},
   "outputs": [],
   "source": [
    "import os\n",
    "import numpy as np\n",
    "import xarray as xr\n",
    "import matplotlib.pyplot as plt\n",
    "from xmitgcm import open_mdsdataset,utils\n",
    "from MITgcmutils import rdmds, wrmds\n",
    "import ecco_v4_py as ecco\n",
    "import pych.ecco as pe\n",
    "\n",
    "import warnings"
   ]
  },
  {
   "cell_type": "code",
   "execution_count": 2,
   "metadata": {},
   "outputs": [
    {
     "name": "stderr",
     "output_type": "stream",
     "text": [
      "/workspace/xmitgcm/xmitgcm/mds_store.py:854: UserWarning: Couldn't find available_diagnostics.log in /workspace/grids/llc90/ or /workspace/grids/llc90/. Using default version.\n",
      "  \"in %s or %s. Using default version.\" % (data_dir, grid_dir))\n"
     ]
    }
   ],
   "source": [
    "llc = pe.read_mds('/workspace/grids/llc90/',iters=None)"
   ]
  },
  {
   "cell_type": "code",
   "execution_count": 3,
   "metadata": {},
   "outputs": [],
   "source": [
    "mapper = pe.atlantic_map(llc)"
   ]
  },
  {
   "cell_type": "code",
   "execution_count": 4,
   "metadata": {},
   "outputs": [],
   "source": [
    "grid = ecco.get_llc_grid(llc)"
   ]
  },
  {
   "cell_type": "markdown",
   "metadata": {},
   "source": [
    "### EUC Masks"
   ]
  },
  {
   "cell_type": "code",
   "execution_count": 5,
   "metadata": {},
   "outputs": [],
   "source": [
    "lon = -140\n",
    "lat1 = 1.5\n",
    "lat2 = -1.5"
   ]
  },
  {
   "cell_type": "code",
   "execution_count": 6,
   "metadata": {},
   "outputs": [
    {
     "name": "stderr",
     "output_type": "stream",
     "text": [
      "/workspace/ECCOv4-py/ecco_v4_py/get_section_masks.py:51: UserWarning: \n",
      "Section name euc unavailable as pre-defined section\n",
      "  warnings.warn('\\nSection name %s unavailable as pre-defined section' % section_name)\n"
     ]
    }
   ],
   "source": [
    "eucMaskW,eucMaskS = pe.get_euc_masks(ds=llc,pt1=[lon,lat1],pt2=[lon,lat2],grid=grid)"
   ]
  },
  {
   "cell_type": "code",
   "execution_count": 7,
   "metadata": {},
   "outputs": [
    {
     "data": {
      "text/plain": [
       "array([ 10.  ,  20.  ,  30.  ,  40.  ,  50.  ,  60.  ,  70.  ,  80.01,\n",
       "        90.04, 100.15, 110.47, 121.27, 133.03, 146.45, 162.49, 182.31,\n",
       "       207.16, 238.26, 276.68, 323.18, 378.18, 441.68, 441.68, 441.68,\n",
       "       441.68, 441.68, 441.68, 441.68, 441.68, 441.68, 441.68, 441.68,\n",
       "       441.68, 441.68, 441.68, 441.68, 441.68, 441.68, 441.68, 441.68,\n",
       "       441.68, 441.68, 441.68, 441.68, 441.68, 441.68, 441.68, 441.68,\n",
       "       441.68, 441.68])"
      ]
     },
     "execution_count": 7,
     "metadata": {},
     "output_type": "execute_result"
    }
   ],
   "source": [
    "eucMaskK = 1.*(llc.Z.where(llc.Z>-410,0.)!=0.)\n",
    "llc.drF.where(eucMaskK,0.).cumsum('k').values"
   ]
  },
  {
   "cell_type": "code",
   "execution_count": 8,
   "metadata": {},
   "outputs": [
    {
     "data": {
      "text/plain": [
       "array(0.16759494)"
      ]
     },
     "execution_count": 8,
     "metadata": {},
     "output_type": "execute_result"
    }
   ],
   "source": [
    "k_ind = 21\n",
    "eucMaskK.loc[{'k':k_ind}]=(-400-llc.Z.sel(k=k_ind))/(llc.Z.sel(k=k_ind-1)-llc.Z.sel(k=k_ind))\n",
    "eucMaskK.sel(k=k_ind).values"
   ]
  },
  {
   "cell_type": "code",
   "execution_count": 9,
   "metadata": {},
   "outputs": [
    {
     "data": {
      "text/html": [
       "<pre>&lt;xarray.DataArray ()&gt;\n",
       "array(0)</pre>"
      ],
      "text/plain": [
       "<xarray.DataArray ()>\n",
       "array(0)"
      ]
     },
     "execution_count": 9,
     "metadata": {},
     "output_type": "execute_result"
    }
   ],
   "source": [
    "eucMaskW.sum()"
   ]
  },
  {
   "cell_type": "code",
   "execution_count": 10,
   "metadata": {},
   "outputs": [
    {
     "data": {
      "text/html": [
       "<pre>&lt;xarray.DataArray ()&gt;\n",
       "array(8)</pre>"
      ],
      "text/plain": [
       "<xarray.DataArray ()>\n",
       "array(8)"
      ]
     },
     "execution_count": 10,
     "metadata": {},
     "output_type": "execute_result"
    }
   ],
   "source": [
    "eucMaskS.sum()"
   ]
  },
  {
   "cell_type": "markdown",
   "metadata": {},
   "source": [
    "### Uvel at 75m\n",
    "\n",
    "- 2D masks which get average between ~-.2 and .2 latitude (the two neighboring grid cells)\n",
    "- 1D vertical mask grabbing the point closest to 75m"
   ]
  },
  {
   "cell_type": "code",
   "execution_count": 11,
   "metadata": {},
   "outputs": [],
   "source": [
    "lon = -140\n",
    "lat1 = .5\n",
    "lat2 = -.5"
   ]
  },
  {
   "cell_type": "code",
   "execution_count": 12,
   "metadata": {},
   "outputs": [
    {
     "name": "stderr",
     "output_type": "stream",
     "text": [
      "/workspace/ECCOv4-py/ecco_v4_py/get_section_masks.py:51: UserWarning: \n",
      "Section name euc unavailable as pre-defined section\n",
      "  warnings.warn('\\nSection name %s unavailable as pre-defined section' % section_name)\n"
     ]
    }
   ],
   "source": [
    "uvelMaskW,uvelMaskS = pe.get_euc_masks(ds=llc,pt1=[lon,lat1],pt2=[lon,lat2],grid=grid)"
   ]
  },
  {
   "cell_type": "code",
   "execution_count": 13,
   "metadata": {},
   "outputs": [],
   "source": [
    "uvelMaskW=.5*uvelMaskW\n",
    "uvelMaskS=.5*uvelMaskS"
   ]
  },
  {
   "cell_type": "code",
   "execution_count": 14,
   "metadata": {},
   "outputs": [
    {
     "data": {
      "text/html": [
       "<pre>&lt;xarray.DataArray ()&gt;\n",
       "array(1.)</pre>"
      ],
      "text/plain": [
       "<xarray.DataArray ()>\n",
       "array(1.)"
      ]
     },
     "execution_count": 14,
     "metadata": {},
     "output_type": "execute_result"
    }
   ],
   "source": [
    "uvelMaskS.sum()"
   ]
  },
  {
   "cell_type": "code",
   "execution_count": 15,
   "metadata": {},
   "outputs": [
    {
     "data": {
      "text/plain": [
       "array([0., 0., 0., 0., 0., 0., 0., 1., 0., 0., 0., 0., 0., 0., 0., 0., 0.,\n",
       "       0., 0., 0., 0., 0., 0., 0., 0., 0., 0., 0., 0., 0., 0., 0., 0., 0.,\n",
       "       0., 0., 0., 0., 0., 0., 0., 0., 0., 0., 0., 0., 0., 0., 0., 0.])"
      ]
     },
     "execution_count": 15,
     "metadata": {},
     "output_type": "execute_result"
    }
   ],
   "source": [
    "uvelMaskK = 1.*(llc.k.where(np.abs(llc.Z+75)<1,0.)!=0)\n",
    "uvelMaskK.values"
   ]
  },
  {
   "cell_type": "code",
   "execution_count": 16,
   "metadata": {},
   "outputs": [
    {
     "data": {
      "text/plain": [
       "array([  0.   ,   0.   ,   0.   ,   0.   ,   0.   ,   0.   ,   0.   ,\n",
       "       -75.005,   0.   ,   0.   ,   0.   ,   0.   ,   0.   ,   0.   ,\n",
       "         0.   ,   0.   ,   0.   ,   0.   ,   0.   ,   0.   ,   0.   ,\n",
       "         0.   ,   0.   ,   0.   ,   0.   ,   0.   ,   0.   ,   0.   ,\n",
       "         0.   ,   0.   ,   0.   ,   0.   ,   0.   ,   0.   ,   0.   ,\n",
       "         0.   ,   0.   ,   0.   ,   0.   ,   0.   ,   0.   ,   0.   ,\n",
       "         0.   ,   0.   ,   0.   ,   0.   ,   0.   ,   0.   ,   0.   ,\n",
       "         0.   ])"
      ]
     },
     "execution_count": 16,
     "metadata": {},
     "output_type": "execute_result"
    }
   ],
   "source": [
    "llc['Z'].where(uvelMaskK,0.).values"
   ]
  },
  {
   "cell_type": "markdown",
   "metadata": {},
   "source": [
    "### Vvel at 75m\n",
    "\n",
    "- 2D masks which get average between 139.5W and 140.5W at the equator\n",
    "- 1D vertical mask grabbing the point closest to 75m"
   ]
  },
  {
   "cell_type": "code",
   "execution_count": 17,
   "metadata": {},
   "outputs": [],
   "source": [
    "lat1 = 0#-0.2\n",
    "lat2 = 0#.2\n",
    "lon1 = -141\n",
    "lon2 = -139"
   ]
  },
  {
   "cell_type": "code",
   "execution_count": 18,
   "metadata": {},
   "outputs": [
    {
     "name": "stderr",
     "output_type": "stream",
     "text": [
      "/workspace/ECCOv4-py/ecco_v4_py/get_section_masks.py:51: UserWarning: \n",
      "Section name euc unavailable as pre-defined section\n",
      "  warnings.warn('\\nSection name %s unavailable as pre-defined section' % section_name)\n"
     ]
    }
   ],
   "source": [
    "vvelMaskW,vvelMaskS = pe.get_euc_masks(ds=llc,pt1=[lon1,lat2],pt2=[lon2,lat2],grid=grid)"
   ]
  },
  {
   "cell_type": "code",
   "execution_count": 19,
   "metadata": {},
   "outputs": [],
   "source": [
    "vvelMaskW = .5*vvelMaskW\n",
    "vvelMaskS = .5*vvelMaskS"
   ]
  },
  {
   "cell_type": "code",
   "execution_count": 20,
   "metadata": {},
   "outputs": [
    {
     "data": {
      "text/html": [
       "<pre>&lt;xarray.DataArray ()&gt;\n",
       "array(-1.)</pre>"
      ],
      "text/plain": [
       "<xarray.DataArray ()>\n",
       "array(-1.)"
      ]
     },
     "execution_count": 20,
     "metadata": {},
     "output_type": "execute_result"
    }
   ],
   "source": [
    "vvelMaskW.sum()"
   ]
  },
  {
   "cell_type": "code",
   "execution_count": 21,
   "metadata": {},
   "outputs": [],
   "source": [
    "vvelMaskK = uvelMaskK.copy()"
   ]
  },
  {
   "cell_type": "markdown",
   "metadata": {},
   "source": [
    "## Write them out"
   ]
  },
  {
   "cell_type": "code",
   "execution_count": 22,
   "metadata": {},
   "outputs": [],
   "source": [
    "mask_dir = 'masks140W'\n",
    "if not os.path.isdir(mask_dir):\n",
    "    os.makedirs(mask_dir)"
   ]
  },
  {
   "cell_type": "code",
   "execution_count": 23,
   "metadata": {},
   "outputs": [],
   "source": [
    "def write_llc_bin(fname,xda):\n",
    "    if 'tile' in xda.dims:\n",
    "        xda = xda.rename({'tile':'face'})\n",
    "        \n",
    "    extra_metadata = utils.get_extra_metadata(domain='llc', nx=90)\n",
    "    facets = utils.rebuild_llc_facets(xda, extra_metadata)\n",
    "    compact = utils.llc_facets_2d_to_compact(facets, extra_metadata)\n",
    "    utils.write_to_binary(compact, fname)"
   ]
  },
  {
   "cell_type": "code",
   "execution_count": 24,
   "metadata": {},
   "outputs": [],
   "source": [
    "for fld,suff in zip([eucMaskW,eucMaskS],['W','S']):\n",
    "    write_llc_bin(f'{mask_dir}/eucMask{suff}',fld)\n",
    "for fld,suff in zip([uvelMaskW,uvelMaskS],['W','S']):\n",
    "    write_llc_bin(f'{mask_dir}/uvel_75m_mask{suff}',fld)\n",
    "for fld,suff in zip([vvelMaskW,vvelMaskS],['W','S']):\n",
    "    write_llc_bin(f'{mask_dir}/vvel_75m_mask{suff}',fld)\n",
    "    \n",
    "for fld,fbase in zip([eucMaskK,uvelMaskK,vvelMaskK],['eucMaskK','uvel_75m_maskK','vvel_75m_maskK']):\n",
    "    utils.write_to_binary(fld.values.flatten(),f'{mask_dir}/{fbase}')"
   ]
  },
  {
   "cell_type": "code",
   "execution_count": null,
   "metadata": {},
   "outputs": [],
   "source": []
  }
 ],
 "metadata": {
  "kernelspec": {
   "display_name": "py37_tim",
   "language": "python",
   "name": "py37_tim"
  },
  "language_info": {
   "codemirror_mode": {
    "name": "ipython",
    "version": 3
   },
   "file_extension": ".py",
   "mimetype": "text/x-python",
   "name": "python",
   "nbconvert_exporter": "python",
   "pygments_lexer": "ipython3",
   "version": "3.7.6"
  }
 },
 "nbformat": 4,
 "nbformat_minor": 4
}
