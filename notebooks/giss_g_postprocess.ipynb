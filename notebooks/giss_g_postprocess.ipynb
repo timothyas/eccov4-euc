{
 "cells": [
  {
   "cell_type": "markdown",
   "metadata": {},
   "source": [
    "# Load GISS-G output from Nick and recompute necessary grid information\n",
    "\n",
    "To compute transports"
   ]
  },
  {
   "cell_type": "code",
   "execution_count": 1,
   "metadata": {},
   "outputs": [],
   "source": [
    "import os \n",
    "import numpy as np\n",
    "import matplotlib.pyplot as plt\n",
    "import xarray as xr\n",
    "from xgcm import Grid\n",
    "from pych.calc import haversine"
   ]
  },
  {
   "cell_type": "code",
   "execution_count": 2,
   "metadata": {},
   "outputs": [],
   "source": [
    "giss_dir_g = '/workspace/results/giss-euc/ocn_1992-2019_g/'"
   ]
  },
  {
   "cell_type": "code",
   "execution_count": 3,
   "metadata": {},
   "outputs": [],
   "source": [
    "giss = xr.open_dataset(f'{giss_dir_g}/1992-2019.ug.nc')\n",
    "\n",
    "for f in ['v','t','s']:\n",
    "    fld = f if f[-1]!='_' else f[:-1]\n",
    "    giss[fld] = xr.open_dataarray(f'{giss_dir_g}/1992-2019.{f}g.nc')"
   ]
  },
  {
   "cell_type": "code",
   "execution_count": 4,
   "metadata": {},
   "outputs": [
    {
     "data": {
      "text/html": [
       "<pre>&lt;xarray.Dataset&gt;\n",
       "Dimensions:  (lato: 17, lato2: 16, lono: 288, lono2: 288, record: 336, zoc: 20)\n",
       "Coordinates:\n",
       "  * lato     (lato) float32 -3.5 -2.5 -1.5 -0.5 0.5 ... 8.5 9.5 10.5 11.5 12.5\n",
       "  * lono2    (lono2) float32 -178.75 -177.5 -176.25 ... 177.5 178.75 180.0\n",
       "  * zoc      (zoc) float32 5.0 16.0 29.0 44.0 61.0 ... 440.0 524.0 625.0 745.0\n",
       "  * lato2    (lato2) float32 -3.0 -2.0 -1.0 0.0 1.0 ... 8.0 9.0 10.0 11.0 12.0\n",
       "  * lono     (lono) float32 -179.375 -178.125 -176.875 ... 178.125 179.375\n",
       "Dimensions without coordinates: record\n",
       "Data variables:\n",
       "    u        (record, zoc, lato, lono2) float32 ...\n",
       "    v        (record, zoc, lato2, lono) float32 ...\n",
       "    t        (record, zoc, lato, lono) float32 ...\n",
       "    s        (record, zoc, lato, lono) float32 ...\n",
       "Attributes:\n",
       "    xlabel:                    E213f10aF40oQ40 (E213F40oQ32 + all 10 forcings)\n",
       "    fromto:                    From:  1992  JAN  1,  Hr  0      To:  1992  FE...\n",
       "    history:                   Wed Mar 18 11:16:24 2020: ncecat 1992-01.ug.nc...\n",
       "    nco_openmp_thread_number:  1\n",
       "    NCO:                       4.2.3</pre>"
      ],
      "text/plain": [
       "<xarray.Dataset>\n",
       "Dimensions:  (lato: 17, lato2: 16, lono: 288, lono2: 288, record: 336, zoc: 20)\n",
       "Coordinates:\n",
       "  * lato     (lato) float32 -3.5 -2.5 -1.5 -0.5 0.5 ... 8.5 9.5 10.5 11.5 12.5\n",
       "  * lono2    (lono2) float32 -178.75 -177.5 -176.25 ... 177.5 178.75 180.0\n",
       "  * zoc      (zoc) float32 5.0 16.0 29.0 44.0 61.0 ... 440.0 524.0 625.0 745.0\n",
       "  * lato2    (lato2) float32 -3.0 -2.0 -1.0 0.0 1.0 ... 8.0 9.0 10.0 11.0 12.0\n",
       "  * lono     (lono) float32 -179.375 -178.125 -176.875 ... 178.125 179.375\n",
       "Dimensions without coordinates: record\n",
       "Data variables:\n",
       "    u        (record, zoc, lato, lono2) float32 ...\n",
       "    v        (record, zoc, lato2, lono) float32 ...\n",
       "    t        (record, zoc, lato, lono) float32 ...\n",
       "    s        (record, zoc, lato, lono) float32 ...\n",
       "Attributes:\n",
       "    xlabel:                    E213f10aF40oQ40 (E213F40oQ32 + all 10 forcings)\n",
       "    fromto:                    From:  1992  JAN  1,  Hr  0      To:  1992  FE...\n",
       "    history:                   Wed Mar 18 11:16:24 2020: ncecat 1992-01.ug.nc...\n",
       "    nco_openmp_thread_number:  1\n",
       "    NCO:                       4.2.3"
      ]
     },
     "execution_count": 4,
     "metadata": {},
     "output_type": "execute_result"
    }
   ],
   "source": [
    "giss"
   ]
  },
  {
   "cell_type": "code",
   "execution_count": 5,
   "metadata": {},
   "outputs": [],
   "source": [
    "time = np.arange('1992-01','2020-01',dtype='datetime64')"
   ]
  },
  {
   "cell_type": "code",
   "execution_count": 6,
   "metadata": {},
   "outputs": [],
   "source": [
    "assert len(time)==len(giss.record)"
   ]
  },
  {
   "cell_type": "markdown",
   "metadata": {},
   "source": [
    "### Units\n",
    "\n",
    "GISS saves U and V in cm/s, swap to m/s"
   ]
  },
  {
   "cell_type": "code",
   "execution_count": 7,
   "metadata": {},
   "outputs": [],
   "source": [
    "for f in ['u','v']:\n",
    "    att = giss[f].attrs\n",
    "    giss[f]=giss[f]/100\n",
    "    giss[f].attrs=att\n",
    "    giss[f].attrs['units']='m/s'"
   ]
  },
  {
   "cell_type": "code",
   "execution_count": 8,
   "metadata": {},
   "outputs": [],
   "source": [
    "giss['time']=xr.DataArray(time,coords=giss.record.coords,dims='record')"
   ]
  },
  {
   "cell_type": "code",
   "execution_count": 9,
   "metadata": {},
   "outputs": [],
   "source": [
    "giss = giss.swap_dims({'record':'time'})"
   ]
  },
  {
   "cell_type": "code",
   "execution_count": 10,
   "metadata": {},
   "outputs": [
    {
     "data": {
      "text/html": [
       "<pre>&lt;xarray.Dataset&gt;\n",
       "Dimensions:  (lato: 17, lato2: 16, lono: 288, lono2: 288, time: 336, zoc: 20)\n",
       "Coordinates:\n",
       "  * lato     (lato) float32 -3.5 -2.5 -1.5 -0.5 0.5 ... 8.5 9.5 10.5 11.5 12.5\n",
       "  * lono2    (lono2) float32 -178.75 -177.5 -176.25 ... 177.5 178.75 180.0\n",
       "  * zoc      (zoc) float32 5.0 16.0 29.0 44.0 61.0 ... 440.0 524.0 625.0 745.0\n",
       "  * lato2    (lato2) float32 -3.0 -2.0 -1.0 0.0 1.0 ... 8.0 9.0 10.0 11.0 12.0\n",
       "  * lono     (lono) float32 -179.375 -178.125 -176.875 ... 178.125 179.375\n",
       "  * time     (time) datetime64[ns] 1992-01-01 1992-02-01 ... 2019-12-01\n",
       "Data variables:\n",
       "    u        (time, zoc, lato, lono2) float32 -0.105167694 ... 0.0010093153\n",
       "    v        (time, zoc, lato2, lono) float32 -0.03161063 ... 0.0020525772\n",
       "    t        (time, zoc, lato, lono) float32 ...\n",
       "    s        (time, zoc, lato, lono) float32 ...\n",
       "Attributes:\n",
       "    xlabel:                    E213f10aF40oQ40 (E213F40oQ32 + all 10 forcings)\n",
       "    fromto:                    From:  1992  JAN  1,  Hr  0      To:  1992  FE...\n",
       "    history:                   Wed Mar 18 11:16:24 2020: ncecat 1992-01.ug.nc...\n",
       "    nco_openmp_thread_number:  1\n",
       "    NCO:                       4.2.3</pre>"
      ],
      "text/plain": [
       "<xarray.Dataset>\n",
       "Dimensions:  (lato: 17, lato2: 16, lono: 288, lono2: 288, time: 336, zoc: 20)\n",
       "Coordinates:\n",
       "  * lato     (lato) float32 -3.5 -2.5 -1.5 -0.5 0.5 ... 8.5 9.5 10.5 11.5 12.5\n",
       "  * lono2    (lono2) float32 -178.75 -177.5 -176.25 ... 177.5 178.75 180.0\n",
       "  * zoc      (zoc) float32 5.0 16.0 29.0 44.0 61.0 ... 440.0 524.0 625.0 745.0\n",
       "  * lato2    (lato2) float32 -3.0 -2.0 -1.0 0.0 1.0 ... 8.0 9.0 10.0 11.0 12.0\n",
       "  * lono     (lono) float32 -179.375 -178.125 -176.875 ... 178.125 179.375\n",
       "  * time     (time) datetime64[ns] 1992-01-01 1992-02-01 ... 2019-12-01\n",
       "Data variables:\n",
       "    u        (time, zoc, lato, lono2) float32 -0.105167694 ... 0.0010093153\n",
       "    v        (time, zoc, lato2, lono) float32 -0.03161063 ... 0.0020525772\n",
       "    t        (time, zoc, lato, lono) float32 ...\n",
       "    s        (time, zoc, lato, lono) float32 ...\n",
       "Attributes:\n",
       "    xlabel:                    E213f10aF40oQ40 (E213F40oQ32 + all 10 forcings)\n",
       "    fromto:                    From:  1992  JAN  1,  Hr  0      To:  1992  FE...\n",
       "    history:                   Wed Mar 18 11:16:24 2020: ncecat 1992-01.ug.nc...\n",
       "    nco_openmp_thread_number:  1\n",
       "    NCO:                       4.2.3"
      ]
     },
     "execution_count": 10,
     "metadata": {},
     "output_type": "execute_result"
    }
   ],
   "source": [
    "giss"
   ]
  },
  {
   "cell_type": "markdown",
   "metadata": {},
   "source": [
    "### Rename some coordinates\n",
    "\n",
    "Just use MITgcm style to make it easy for me\n",
    "\n",
    "the atmospheric variables sit at the intersection of four grid cells, hence why the XG/YG points align with the atm variable lon/lat"
   ]
  },
  {
   "cell_type": "code",
   "execution_count": 11,
   "metadata": {},
   "outputs": [],
   "source": [
    "giss = giss.rename({'lono2':'XG','lono':'XC','lato2':'YG','lato':'YC','zoc':'Z'})"
   ]
  },
  {
   "cell_type": "code",
   "execution_count": 12,
   "metadata": {},
   "outputs": [
    {
     "data": {
      "text/plain": [
       "Data variables:\n",
       "    u        (time, Z, YC, XG) float32 -0.105167694 -0.10802157 ... 0.0010093153\n",
       "    v        (time, Z, YG, XC) float32 -0.03161063 -0.033070985 ... 0.0020525772\n",
       "    t        (time, Z, YC, XC) float32 ...\n",
       "    s        (time, Z, YC, XC) float32 ..."
      ]
     },
     "execution_count": 12,
     "metadata": {},
     "output_type": "execute_result"
    }
   ],
   "source": [
    "giss.data_vars"
   ]
  },
  {
   "cell_type": "code",
   "execution_count": 13,
   "metadata": {},
   "outputs": [
    {
     "data": {
      "text/html": [
       "<pre>&lt;xarray.DataArray &#x27;YC&#x27; (YC: 17)&gt;\n",
       "array([-3.5, -2.5, -1.5, -0.5,  0.5,  1.5,  2.5,  3.5,  4.5,  5.5,  6.5,  7.5,\n",
       "        8.5,  9.5, 10.5, 11.5, 12.5], dtype=float32)\n",
       "Coordinates:\n",
       "  * YC       (YC) float32 -3.5 -2.5 -1.5 -0.5 0.5 1.5 ... 8.5 9.5 10.5 11.5 12.5\n",
       "Attributes:\n",
       "    units:    degrees_north</pre>"
      ],
      "text/plain": [
       "<xarray.DataArray 'YC' (YC: 17)>\n",
       "array([-3.5, -2.5, -1.5, -0.5,  0.5,  1.5,  2.5,  3.5,  4.5,  5.5,  6.5,  7.5,\n",
       "        8.5,  9.5, 10.5, 11.5, 12.5], dtype=float32)\n",
       "Coordinates:\n",
       "  * YC       (YC) float32 -3.5 -2.5 -1.5 -0.5 0.5 1.5 ... 8.5 9.5 10.5 11.5 12.5\n",
       "Attributes:\n",
       "    units:    degrees_north"
      ]
     },
     "execution_count": 13,
     "metadata": {},
     "output_type": "execute_result"
    }
   ],
   "source": [
    "giss.YC"
   ]
  },
  {
   "cell_type": "code",
   "execution_count": 14,
   "metadata": {},
   "outputs": [
    {
     "data": {
      "text/html": [
       "<pre>&lt;xarray.DataArray &#x27;YG&#x27; (YG: 16)&gt;\n",
       "array([-3., -2., -1.,  0.,  1.,  2.,  3.,  4.,  5.,  6.,  7.,  8.,  9., 10.,\n",
       "       11., 12.], dtype=float32)\n",
       "Coordinates:\n",
       "  * YG       (YG) float32 -3.0 -2.0 -1.0 0.0 1.0 2.0 ... 8.0 9.0 10.0 11.0 12.0\n",
       "Attributes:\n",
       "    units:    degrees_north</pre>"
      ],
      "text/plain": [
       "<xarray.DataArray 'YG' (YG: 16)>\n",
       "array([-3., -2., -1.,  0.,  1.,  2.,  3.,  4.,  5.,  6.,  7.,  8.,  9., 10.,\n",
       "       11., 12.], dtype=float32)\n",
       "Coordinates:\n",
       "  * YG       (YG) float32 -3.0 -2.0 -1.0 0.0 1.0 2.0 ... 8.0 9.0 10.0 11.0 12.0\n",
       "Attributes:\n",
       "    units:    degrees_north"
      ]
     },
     "execution_count": 14,
     "metadata": {},
     "output_type": "execute_result"
    }
   ],
   "source": [
    "giss.YG"
   ]
  },
  {
   "cell_type": "markdown",
   "metadata": {},
   "source": [
    "### Now there is one extra eastward velocity point which is giving some trouble\n",
    "\n",
    "Weird, not sure why that is there..."
   ]
  },
  {
   "cell_type": "code",
   "execution_count": 15,
   "metadata": {},
   "outputs": [],
   "source": [
    "giss = giss.drop_sel(YC=-3.5)"
   ]
  },
  {
   "cell_type": "markdown",
   "metadata": {},
   "source": [
    "### Some meta data for xgcm\n",
    "\n",
    "and another vertical coordinate..."
   ]
  },
  {
   "cell_type": "code",
   "execution_count": 16,
   "metadata": {},
   "outputs": [],
   "source": [
    "giss.XC.attrs['axis'] = 'X'\n",
    "giss.XG.attrs['axis'] = 'X'\n",
    "\n",
    "giss.YC.attrs['axis'] = 'Y'\n",
    "giss.YG.attrs['axis'] = 'Y'\n",
    "\n",
    "giss.XG.attrs['c_grid_axis_shift']=-0.5\n",
    "giss.YG.attrs['c_grid_axis_shift']=-0.5"
   ]
  },
  {
   "cell_type": "code",
   "execution_count": 40,
   "metadata": {},
   "outputs": [
    {
     "data": {
      "text/html": [
       "<pre>&lt;xarray.DataArray &#x27;Z&#x27; (Z: 20)&gt;\n",
       "array([ 16.,  29.,  44.,  61.,  80., 100., 120., 140., 160., 181., 205., 234.,\n",
       "       270., 315., 371., 440., 524., 625., 745.,  nan], dtype=float32)\n",
       "Coordinates:\n",
       "  * Z        (Z) float32 5.0 16.0 29.0 44.0 61.0 ... 440.0 524.0 625.0 745.0\n",
       "Attributes:\n",
       "    units:     m\n",
       "    positive:  down\n",
       "    axis:      Z</pre>"
      ],
      "text/plain": [
       "<xarray.DataArray 'Z' (Z: 20)>\n",
       "array([ 16.,  29.,  44.,  61.,  80., 100., 120., 140., 160., 181., 205., 234.,\n",
       "       270., 315., 371., 440., 524., 625., 745.,  nan], dtype=float32)\n",
       "Coordinates:\n",
       "  * Z        (Z) float32 5.0 16.0 29.0 44.0 61.0 ... 440.0 524.0 625.0 745.0\n",
       "Attributes:\n",
       "    units:     m\n",
       "    positive:  down\n",
       "    axis:      Z"
      ]
     },
     "execution_count": 40,
     "metadata": {},
     "output_type": "execute_result"
    }
   ],
   "source": [
    "giss.Z.shift(Z=-1)"
   ]
  },
  {
   "cell_type": "code",
   "execution_count": 18,
   "metadata": {},
   "outputs": [
    {
     "data": {
      "text/plain": [
       "array([  0. ,  10.5,  22.5,  36.5,  52.5,  70.5,  90. , 110. , 130. ,\n",
       "       150. , 170.5, 193. , 219.5, 252. , 292.5, 343. , 405.5, 482. ,\n",
       "       574.5, 685. ])"
      ]
     },
     "execution_count": 18,
     "metadata": {},
     "output_type": "execute_result"
    }
   ],
   "source": [
    "np.concatenate(np.array([[0],(giss.Z+giss.Z.shift(Z=-1)[:-1])/2]))"
   ]
  },
  {
   "cell_type": "code",
   "execution_count": 19,
   "metadata": {},
   "outputs": [],
   "source": [
    "giss['Zl'] =np.concatenate(np.array([[0],(giss.Z+giss.Z.shift(Z=-1)[:-1])/2]))"
   ]
  },
  {
   "cell_type": "code",
   "execution_count": 20,
   "metadata": {},
   "outputs": [
    {
     "data": {
      "text/html": [
       "<pre>&lt;xarray.DataArray &#x27;Zl&#x27; (Zl: 20)&gt;\n",
       "array([  0. ,  10.5,  22.5,  36.5,  52.5,  70.5,  90. , 110. , 130. , 150. ,\n",
       "       170.5, 193. , 219.5, 252. , 292.5, 343. , 405.5, 482. , 574.5, 685. ])\n",
       "Coordinates:\n",
       "  * Zl       (Zl) float64 0.0 10.5 22.5 36.5 52.5 ... 405.5 482.0 574.5 685.0</pre>"
      ],
      "text/plain": [
       "<xarray.DataArray 'Zl' (Zl: 20)>\n",
       "array([  0. ,  10.5,  22.5,  36.5,  52.5,  70.5,  90. , 110. , 130. , 150. ,\n",
       "       170.5, 193. , 219.5, 252. , 292.5, 343. , 405.5, 482. , 574.5, 685. ])\n",
       "Coordinates:\n",
       "  * Zl       (Zl) float64 0.0 10.5 22.5 36.5 52.5 ... 405.5 482.0 574.5 685.0"
      ]
     },
     "execution_count": 20,
     "metadata": {},
     "output_type": "execute_result"
    }
   ],
   "source": [
    "giss.Zl"
   ]
  },
  {
   "cell_type": "markdown",
   "metadata": {},
   "source": [
    "Have to fake the other \"side\" of the Z axis"
   ]
  },
  {
   "cell_type": "code",
   "execution_count": 21,
   "metadata": {},
   "outputs": [],
   "source": [
    "dz = giss.Z[-1]-giss.Zl[-1]\n",
    "giss['Zu'] = np.concatenate([giss.Zl[1:],[(giss.Z[-1]+dz)]])"
   ]
  },
  {
   "cell_type": "code",
   "execution_count": 22,
   "metadata": {},
   "outputs": [],
   "source": [
    "giss['Zp1'] = np.concatenate([[giss.Zl[0]],giss.Zu])"
   ]
  },
  {
   "cell_type": "code",
   "execution_count": 23,
   "metadata": {},
   "outputs": [],
   "source": [
    "giss.Z.attrs['axis'] = 'Z'\n",
    "giss.Zl.attrs['axis'] = 'Z'\n",
    "giss.Zu.attrs['axis'] = 'Z'\n",
    "giss.Zp1.attrs['axis'] = 'Z'\n",
    "\n",
    "giss.XG.attrs['c_grid_axis_shift']=-0.5\n",
    "giss.YG.attrs['c_grid_axis_shift']=-0.5\n",
    "giss.Zl.attrs['c_grid_axis_shift']=-0.5\n",
    "giss.Zu.attrs['c_grid_axis_shift']= 0.5\n",
    "giss.Zp1.attrs['c_grid_axis_shift']=0.5"
   ]
  },
  {
   "cell_type": "code",
   "execution_count": 24,
   "metadata": {},
   "outputs": [
    {
     "data": {
      "text/html": [
       "<pre>&lt;xarray.Dataset&gt;\n",
       "Dimensions:  (XC: 288, XG: 288, YC: 16, YG: 16, Z: 20, Zl: 20, Zp1: 21, Zu: 20, time: 336)\n",
       "Coordinates:\n",
       "  * YC       (YC) float32 -2.5 -1.5 -0.5 0.5 1.5 2.5 ... 8.5 9.5 10.5 11.5 12.5\n",
       "  * XG       (XG) float32 -178.75 -177.5 -176.25 -175.0 ... 177.5 178.75 180.0\n",
       "  * Z        (Z) float32 5.0 16.0 29.0 44.0 61.0 ... 440.0 524.0 625.0 745.0\n",
       "  * YG       (YG) float32 -3.0 -2.0 -1.0 0.0 1.0 2.0 ... 8.0 9.0 10.0 11.0 12.0\n",
       "  * XC       (XC) float32 -179.375 -178.125 -176.875 ... 176.875 178.125 179.375\n",
       "  * time     (time) datetime64[ns] 1992-01-01 1992-02-01 ... 2019-12-01\n",
       "  * Zl       (Zl) float64 0.0 10.5 22.5 36.5 52.5 ... 405.5 482.0 574.5 685.0\n",
       "  * Zu       (Zu) float64 10.5 22.5 36.5 52.5 70.5 ... 482.0 574.5 685.0 805.0\n",
       "  * Zp1      (Zp1) float64 0.0 10.5 22.5 36.5 52.5 ... 482.0 574.5 685.0 805.0\n",
       "Data variables:\n",
       "    u        (time, Z, YC, XG) float32 -0.18397406 -0.18022417 ... 0.0010093153\n",
       "    v        (time, Z, YG, XC) float32 -0.03161063 -0.033070985 ... 0.0020525772\n",
       "    t        (time, Z, YC, XC) float32 ...\n",
       "    s        (time, Z, YC, XC) float32 ...\n",
       "Attributes:\n",
       "    xlabel:                    E213f10aF40oQ40 (E213F40oQ32 + all 10 forcings)\n",
       "    fromto:                    From:  1992  JAN  1,  Hr  0      To:  1992  FE...\n",
       "    history:                   Wed Mar 18 11:16:24 2020: ncecat 1992-01.ug.nc...\n",
       "    nco_openmp_thread_number:  1\n",
       "    NCO:                       4.2.3</pre>"
      ],
      "text/plain": [
       "<xarray.Dataset>\n",
       "Dimensions:  (XC: 288, XG: 288, YC: 16, YG: 16, Z: 20, Zl: 20, Zp1: 21, Zu: 20, time: 336)\n",
       "Coordinates:\n",
       "  * YC       (YC) float32 -2.5 -1.5 -0.5 0.5 1.5 2.5 ... 8.5 9.5 10.5 11.5 12.5\n",
       "  * XG       (XG) float32 -178.75 -177.5 -176.25 -175.0 ... 177.5 178.75 180.0\n",
       "  * Z        (Z) float32 5.0 16.0 29.0 44.0 61.0 ... 440.0 524.0 625.0 745.0\n",
       "  * YG       (YG) float32 -3.0 -2.0 -1.0 0.0 1.0 2.0 ... 8.0 9.0 10.0 11.0 12.0\n",
       "  * XC       (XC) float32 -179.375 -178.125 -176.875 ... 176.875 178.125 179.375\n",
       "  * time     (time) datetime64[ns] 1992-01-01 1992-02-01 ... 2019-12-01\n",
       "  * Zl       (Zl) float64 0.0 10.5 22.5 36.5 52.5 ... 405.5 482.0 574.5 685.0\n",
       "  * Zu       (Zu) float64 10.5 22.5 36.5 52.5 70.5 ... 482.0 574.5 685.0 805.0\n",
       "  * Zp1      (Zp1) float64 0.0 10.5 22.5 36.5 52.5 ... 482.0 574.5 685.0 805.0\n",
       "Data variables:\n",
       "    u        (time, Z, YC, XG) float32 -0.18397406 -0.18022417 ... 0.0010093153\n",
       "    v        (time, Z, YG, XC) float32 -0.03161063 -0.033070985 ... 0.0020525772\n",
       "    t        (time, Z, YC, XC) float32 ...\n",
       "    s        (time, Z, YC, XC) float32 ...\n",
       "Attributes:\n",
       "    xlabel:                    E213f10aF40oQ40 (E213F40oQ32 + all 10 forcings)\n",
       "    fromto:                    From:  1992  JAN  1,  Hr  0      To:  1992  FE...\n",
       "    history:                   Wed Mar 18 11:16:24 2020: ncecat 1992-01.ug.nc...\n",
       "    nco_openmp_thread_number:  1\n",
       "    NCO:                       4.2.3"
      ]
     },
     "execution_count": 24,
     "metadata": {},
     "output_type": "execute_result"
    }
   ],
   "source": [
    "giss"
   ]
  },
  {
   "cell_type": "markdown",
   "metadata": {},
   "source": [
    "### Finally, get differential elements for computing transports\n",
    "\n",
    "dx, dy..."
   ]
  },
  {
   "cell_type": "code",
   "execution_count": 25,
   "metadata": {},
   "outputs": [],
   "source": [
    "xg,yg = np.meshgrid(giss.XG,giss.YG)"
   ]
  },
  {
   "cell_type": "code",
   "execution_count": 26,
   "metadata": {},
   "outputs": [],
   "source": [
    "dxG = haversine(xg,yg,np.roll(xg,-1,axis=1),np.roll(yg,-1,axis=1))*1000"
   ]
  },
  {
   "cell_type": "markdown",
   "metadata": {},
   "source": [
    "Since latitude not periodic, have to add on the boundary condition"
   ]
  },
  {
   "cell_type": "code",
   "execution_count": 27,
   "metadata": {},
   "outputs": [],
   "source": [
    "xg_rolled = np.roll(xg,-1,axis=0)\n",
    "yg_rolled = np.roll(yg,-1,axis=0)\n",
    "\n",
    "yg_rolled[-1,:] = 13.*np.ones_like(xg_rolled[0,:])"
   ]
  },
  {
   "cell_type": "code",
   "execution_count": 28,
   "metadata": {},
   "outputs": [],
   "source": [
    "dyG = haversine(xg_rolled,yg_rolled,xg,yg) * 1000"
   ]
  },
  {
   "cell_type": "code",
   "execution_count": 29,
   "metadata": {},
   "outputs": [],
   "source": [
    "xc,yc = np.meshgrid(giss.XC,giss.YC)"
   ]
  },
  {
   "cell_type": "code",
   "execution_count": 30,
   "metadata": {},
   "outputs": [],
   "source": [
    "dxC = haversine(xc,yc,np.roll(xc,-1,axis=1),np.roll(yc,-1,axis=1))*1000"
   ]
  },
  {
   "cell_type": "code",
   "execution_count": 31,
   "metadata": {},
   "outputs": [],
   "source": [
    "xc_rolled = np.roll(xc,-1,axis=0)\n",
    "yc_rolled = np.roll(yc,-1,axis=0)\n",
    "\n",
    "yc_rolled[-1,:]=13.5*np.ones_like(yc_rolled[0,:])"
   ]
  },
  {
   "cell_type": "code",
   "execution_count": 32,
   "metadata": {},
   "outputs": [],
   "source": [
    "dyC = haversine(xc_rolled,yc_rolled,xc,yc)*1000"
   ]
  },
  {
   "cell_type": "code",
   "execution_count": 33,
   "metadata": {},
   "outputs": [],
   "source": [
    "giss['dxG'] = xr.DataArray(dxG,coords={'YG':giss.YG,'XC':giss.XC},dims=('YG','XC'),\n",
    "                          attrs={'units':'m'})\n",
    "giss['dyG'] = xr.DataArray(dyG,coords={'YC':giss.YC,'XG':giss.XG},dims=('YC','XG'),\n",
    "                          attrs={'units':'m'})\n",
    "giss['dxC'] = xr.DataArray(dxC,coords={'YC':giss.YC,'XG':giss.XG},dims=('YC','XG'),\n",
    "                          attrs={'units':'m'})\n",
    "giss['dyC'] = xr.DataArray(dyC,coords={'YG':giss.YG,'XC':giss.XC},dims=('YG','XC'),\n",
    "                          attrs={'units':'m'})"
   ]
  },
  {
   "cell_type": "code",
   "execution_count": 34,
   "metadata": {},
   "outputs": [],
   "source": [
    "for f in ['dxG','dxC','dyC','dyG']:\n",
    "    giss=giss.set_coords(f)"
   ]
  },
  {
   "cell_type": "markdown",
   "metadata": {},
   "source": [
    "### Now make a grid object"
   ]
  },
  {
   "cell_type": "code",
   "execution_count": 35,
   "metadata": {},
   "outputs": [],
   "source": [
    "grid = Grid(giss,periodic='X')"
   ]
  },
  {
   "cell_type": "code",
   "execution_count": 36,
   "metadata": {},
   "outputs": [
    {
     "data": {
      "text/plain": [
       "<xgcm.Grid>\n",
       "Z Axis (not periodic):\n",
       "  * center   Z --> left\n",
       "  * left     Zl --> center\n",
       "  * outer    Zp1 --> center\n",
       "  * right    Zu --> center\n",
       "Y Axis (not periodic):\n",
       "  * center   YC --> left\n",
       "  * left     YG --> center\n",
       "X Axis (periodic):\n",
       "  * center   XC --> left\n",
       "  * left     XG --> center"
      ]
     },
     "execution_count": 36,
     "metadata": {},
     "output_type": "execute_result"
    }
   ],
   "source": [
    "grid"
   ]
  },
  {
   "cell_type": "code",
   "execution_count": 37,
   "metadata": {},
   "outputs": [],
   "source": [
    "giss['drF'] = grid.diff(giss.Zp1,'Z',to='center')"
   ]
  },
  {
   "cell_type": "markdown",
   "metadata": {},
   "source": [
    "## Save this for later"
   ]
  },
  {
   "cell_type": "code",
   "execution_count": 38,
   "metadata": {},
   "outputs": [],
   "source": [
    "giss.to_netcdf('/workspace/results/giss-euc/giss_g.nc')"
   ]
  },
  {
   "cell_type": "code",
   "execution_count": null,
   "metadata": {},
   "outputs": [],
   "source": []
  }
 ],
 "metadata": {
  "kernelspec": {
   "display_name": "py37_tim",
   "language": "python",
   "name": "py37_tim"
  },
  "language_info": {
   "codemirror_mode": {
    "name": "ipython",
    "version": 3
   },
   "file_extension": ".py",
   "mimetype": "text/x-python",
   "name": "python",
   "nbconvert_exporter": "python",
   "pygments_lexer": "ipython3",
   "version": "3.7.6"
  }
 },
 "nbformat": 4,
 "nbformat_minor": 4
}
