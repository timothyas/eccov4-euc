{
 "cells": [
  {
   "cell_type": "markdown",
   "metadata": {},
   "source": [
    "# Load GISS-H output from Nick and recompute necessary grid information\n",
    "\n",
    "To compute transports\n",
    "\n",
    "For some reason, this seems to be interpolated to a different grid than the GISS-G dataset.\n",
    "Why?"
   ]
  },
  {
   "cell_type": "code",
   "execution_count": 1,
   "metadata": {},
   "outputs": [],
   "source": [
    "import os \n",
    "import numpy as np\n",
    "import matplotlib.pyplot as plt\n",
    "import xarray as xr\n",
    "from xgcm import Grid\n",
    "from pych.calc import haversine"
   ]
  },
  {
   "cell_type": "code",
   "execution_count": 2,
   "metadata": {},
   "outputs": [],
   "source": [
    "giss_dir = '/workspace/results/giss-euc/ocn_1992-2019_h/'"
   ]
  },
  {
   "cell_type": "code",
   "execution_count": 3,
   "metadata": {},
   "outputs": [],
   "source": [
    "giss = xr.open_dataset(f'{giss_dir}/1992-2019.uh.nc')\n",
    "\n",
    "for f in ['v','t','s']:\n",
    "    fld = f if f[-1]!='_' else f[:-1]\n",
    "    giss[fld] = xr.open_dataarray(f'{giss_dir}/1992-2019.{f}h.nc')"
   ]
  },
  {
   "cell_type": "code",
   "execution_count": 4,
   "metadata": {},
   "outputs": [
    {
     "data": {
      "text/html": [
       "<pre>&lt;xarray.Dataset&gt;\n",
       "Dimensions:  (lat: 17, lon: 360, record: 336, z: 17)\n",
       "Coordinates:\n",
       "  * lat      (lat) float32 -3.5 -2.5 -1.5 -0.5 0.5 ... 8.5 9.5 10.5 11.5 12.5\n",
       "  * lon      (lon) float32 -179.5 -178.5 -177.5 -176.5 ... 177.5 178.5 179.5\n",
       "  * z        (z) float32 0.0 10.0 20.0 30.0 50.0 ... 500.0 600.0 700.0 800.0\n",
       "Dimensions without coordinates: record\n",
       "Data variables:\n",
       "    U        (record, z, lat, lon) float32 ...\n",
       "    v        (record, z, lat, lon) float32 ...\n",
       "    t        (record, z, lat, lon) float32 ...\n",
       "    s        (record, z, lat, lon) float32 ...\n",
       "Attributes:\n",
       "    title:                     RunId Mean a-e Eh213f10 year=1992 month=JAN\n",
       "    history:                   Fri Apr 10 16:08:19 2020: ncecat 1992-01.uh.nc...\n",
       "    nco_openmp_thread_number:  1\n",
       "    NCO:                       4.2.3</pre>"
      ],
      "text/plain": [
       "<xarray.Dataset>\n",
       "Dimensions:  (lat: 17, lon: 360, record: 336, z: 17)\n",
       "Coordinates:\n",
       "  * lat      (lat) float32 -3.5 -2.5 -1.5 -0.5 0.5 ... 8.5 9.5 10.5 11.5 12.5\n",
       "  * lon      (lon) float32 -179.5 -178.5 -177.5 -176.5 ... 177.5 178.5 179.5\n",
       "  * z        (z) float32 0.0 10.0 20.0 30.0 50.0 ... 500.0 600.0 700.0 800.0\n",
       "Dimensions without coordinates: record\n",
       "Data variables:\n",
       "    U        (record, z, lat, lon) float32 ...\n",
       "    v        (record, z, lat, lon) float32 ...\n",
       "    t        (record, z, lat, lon) float32 ...\n",
       "    s        (record, z, lat, lon) float32 ...\n",
       "Attributes:\n",
       "    title:                     RunId Mean a-e Eh213f10 year=1992 month=JAN\n",
       "    history:                   Fri Apr 10 16:08:19 2020: ncecat 1992-01.uh.nc...\n",
       "    nco_openmp_thread_number:  1\n",
       "    NCO:                       4.2.3"
      ]
     },
     "execution_count": 4,
     "metadata": {},
     "output_type": "execute_result"
    }
   ],
   "source": [
    "giss"
   ]
  },
  {
   "cell_type": "code",
   "execution_count": 5,
   "metadata": {},
   "outputs": [],
   "source": [
    "time = np.arange('1992-01','2020-01',dtype='datetime64')"
   ]
  },
  {
   "cell_type": "code",
   "execution_count": 6,
   "metadata": {},
   "outputs": [],
   "source": [
    "assert len(time)==len(giss.record)"
   ]
  },
  {
   "cell_type": "code",
   "execution_count": 7,
   "metadata": {},
   "outputs": [],
   "source": [
    "giss = giss.rename({'U':'u'})"
   ]
  },
  {
   "cell_type": "markdown",
   "metadata": {},
   "source": [
    "### Units\n",
    "\n",
    "GISS saves U and V in cm/s, swap to m/s"
   ]
  },
  {
   "cell_type": "code",
   "execution_count": 8,
   "metadata": {},
   "outputs": [
    {
     "data": {
      "text/html": [
       "<pre>&lt;xarray.DataArray &#x27;u&#x27; (record: 336, z: 17, lat: 17, lon: 360)&gt;\n",
       "[34957440 values with dtype=float32]\n",
       "Coordinates:\n",
       "  * lat      (lat) float32 -3.5 -2.5 -1.5 -0.5 0.5 ... 8.5 9.5 10.5 11.5 12.5\n",
       "  * lon      (lon) float32 -179.5 -178.5 -177.5 -176.5 ... 177.5 178.5 179.5\n",
       "  * z        (z) float32 0.0 10.0 20.0 30.0 50.0 ... 500.0 600.0 700.0 800.0\n",
       "Dimensions without coordinates: record\n",
       "Attributes:\n",
       "    units:      cm/s\n",
       "    long_name:  eastward velocity</pre>"
      ],
      "text/plain": [
       "<xarray.DataArray 'u' (record: 336, z: 17, lat: 17, lon: 360)>\n",
       "[34957440 values with dtype=float32]\n",
       "Coordinates:\n",
       "  * lat      (lat) float32 -3.5 -2.5 -1.5 -0.5 0.5 ... 8.5 9.5 10.5 11.5 12.5\n",
       "  * lon      (lon) float32 -179.5 -178.5 -177.5 -176.5 ... 177.5 178.5 179.5\n",
       "  * z        (z) float32 0.0 10.0 20.0 30.0 50.0 ... 500.0 600.0 700.0 800.0\n",
       "Dimensions without coordinates: record\n",
       "Attributes:\n",
       "    units:      cm/s\n",
       "    long_name:  eastward velocity"
      ]
     },
     "execution_count": 8,
     "metadata": {},
     "output_type": "execute_result"
    }
   ],
   "source": [
    "giss.u"
   ]
  },
  {
   "cell_type": "code",
   "execution_count": 9,
   "metadata": {},
   "outputs": [],
   "source": [
    "for f in ['u','v']:\n",
    "    att = giss[f].attrs\n",
    "    giss[f]=giss[f]/100\n",
    "    giss[f].attrs=att\n",
    "    giss[f].attrs['units']='m/s'"
   ]
  },
  {
   "cell_type": "code",
   "execution_count": 10,
   "metadata": {},
   "outputs": [],
   "source": [
    "giss['time']=xr.DataArray(time,coords=giss.record.coords,dims='record')"
   ]
  },
  {
   "cell_type": "code",
   "execution_count": 11,
   "metadata": {},
   "outputs": [],
   "source": [
    "giss = giss.swap_dims({'record':'time'})"
   ]
  },
  {
   "cell_type": "code",
   "execution_count": 12,
   "metadata": {},
   "outputs": [
    {
     "data": {
      "text/html": [
       "<pre>&lt;xarray.Dataset&gt;\n",
       "Dimensions:  (lat: 17, lon: 360, time: 336, z: 17)\n",
       "Coordinates:\n",
       "  * lat      (lat) float32 -3.5 -2.5 -1.5 -0.5 0.5 ... 8.5 9.5 10.5 11.5 12.5\n",
       "  * lon      (lon) float32 -179.5 -178.5 -177.5 -176.5 ... 177.5 178.5 179.5\n",
       "  * z        (z) float32 0.0 10.0 20.0 30.0 50.0 ... 500.0 600.0 700.0 800.0\n",
       "  * time     (time) datetime64[ns] 1992-01-01 1992-02-01 ... 2019-12-01\n",
       "Data variables:\n",
       "    u        (time, z, lat, lon) float32 -0.07827317 ... -0.0036864323\n",
       "    v        (time, z, lat, lon) float32 -0.049138803 ... -0.002400057\n",
       "    t        (time, z, lat, lon) float32 ...\n",
       "    s        (time, z, lat, lon) float32 ...\n",
       "Attributes:\n",
       "    title:                     RunId Mean a-e Eh213f10 year=1992 month=JAN\n",
       "    history:                   Fri Apr 10 16:08:19 2020: ncecat 1992-01.uh.nc...\n",
       "    nco_openmp_thread_number:  1\n",
       "    NCO:                       4.2.3</pre>"
      ],
      "text/plain": [
       "<xarray.Dataset>\n",
       "Dimensions:  (lat: 17, lon: 360, time: 336, z: 17)\n",
       "Coordinates:\n",
       "  * lat      (lat) float32 -3.5 -2.5 -1.5 -0.5 0.5 ... 8.5 9.5 10.5 11.5 12.5\n",
       "  * lon      (lon) float32 -179.5 -178.5 -177.5 -176.5 ... 177.5 178.5 179.5\n",
       "  * z        (z) float32 0.0 10.0 20.0 30.0 50.0 ... 500.0 600.0 700.0 800.0\n",
       "  * time     (time) datetime64[ns] 1992-01-01 1992-02-01 ... 2019-12-01\n",
       "Data variables:\n",
       "    u        (time, z, lat, lon) float32 -0.07827317 ... -0.0036864323\n",
       "    v        (time, z, lat, lon) float32 -0.049138803 ... -0.002400057\n",
       "    t        (time, z, lat, lon) float32 ...\n",
       "    s        (time, z, lat, lon) float32 ...\n",
       "Attributes:\n",
       "    title:                     RunId Mean a-e Eh213f10 year=1992 month=JAN\n",
       "    history:                   Fri Apr 10 16:08:19 2020: ncecat 1992-01.uh.nc...\n",
       "    nco_openmp_thread_number:  1\n",
       "    NCO:                       4.2.3"
      ]
     },
     "execution_count": 12,
     "metadata": {},
     "output_type": "execute_result"
    }
   ],
   "source": [
    "giss"
   ]
  },
  {
   "cell_type": "markdown",
   "metadata": {},
   "source": [
    "### Rename some coordinates\n",
    "\n",
    "Just use MITgcm style to make it easy for me\n",
    "\n",
    "the atmospheric variables sit at the intersection of four grid cells, hence why the XG/YG points align with the atm variable lon/lat"
   ]
  },
  {
   "cell_type": "code",
   "execution_count": 13,
   "metadata": {},
   "outputs": [],
   "source": [
    "giss = giss.rename({'lon':'XC','lat':'YC','z':'Zl'})"
   ]
  },
  {
   "cell_type": "code",
   "execution_count": 14,
   "metadata": {},
   "outputs": [
    {
     "data": {
      "text/plain": [
       "Data variables:\n",
       "    u        (time, Zl, YC, XC) float32 -0.07827317 ... -0.0036864323\n",
       "    v        (time, Zl, YC, XC) float32 -0.049138803 ... -0.002400057\n",
       "    t        (time, Zl, YC, XC) float32 ...\n",
       "    s        (time, Zl, YC, XC) float32 ..."
      ]
     },
     "execution_count": 14,
     "metadata": {},
     "output_type": "execute_result"
    }
   ],
   "source": [
    "giss.data_vars"
   ]
  },
  {
   "cell_type": "code",
   "execution_count": 15,
   "metadata": {},
   "outputs": [
    {
     "data": {
      "text/html": [
       "<pre>&lt;xarray.DataArray &#x27;YC&#x27; (YC: 17)&gt;\n",
       "array([-3.5, -2.5, -1.5, -0.5,  0.5,  1.5,  2.5,  3.5,  4.5,  5.5,  6.5,  7.5,\n",
       "        8.5,  9.5, 10.5, 11.5, 12.5], dtype=float32)\n",
       "Coordinates:\n",
       "  * YC       (YC) float32 -3.5 -2.5 -1.5 -0.5 0.5 1.5 ... 8.5 9.5 10.5 11.5 12.5\n",
       "Attributes:\n",
       "    units:      degrees_north\n",
       "    long_name:  latitude</pre>"
      ],
      "text/plain": [
       "<xarray.DataArray 'YC' (YC: 17)>\n",
       "array([-3.5, -2.5, -1.5, -0.5,  0.5,  1.5,  2.5,  3.5,  4.5,  5.5,  6.5,  7.5,\n",
       "        8.5,  9.5, 10.5, 11.5, 12.5], dtype=float32)\n",
       "Coordinates:\n",
       "  * YC       (YC) float32 -3.5 -2.5 -1.5 -0.5 0.5 1.5 ... 8.5 9.5 10.5 11.5 12.5\n",
       "Attributes:\n",
       "    units:      degrees_north\n",
       "    long_name:  latitude"
      ]
     },
     "execution_count": 15,
     "metadata": {},
     "output_type": "execute_result"
    }
   ],
   "source": [
    "giss.YC"
   ]
  },
  {
   "cell_type": "markdown",
   "metadata": {},
   "source": [
    "### Add some coordinates to make this the same as the other dataset\n",
    "\n",
    "Compare to what we have for GISS-G"
   ]
  },
  {
   "cell_type": "code",
   "execution_count": 16,
   "metadata": {},
   "outputs": [],
   "source": [
    "gg = xr.open_dataset('/workspace/results/giss-euc/giss_g.nc')"
   ]
  },
  {
   "cell_type": "code",
   "execution_count": 17,
   "metadata": {},
   "outputs": [
    {
     "data": {
      "text/html": [
       "<pre>&lt;xarray.DataArray &#x27;YG&#x27; (YG: 16)&gt;\n",
       "array([-3., -2., -1.,  0.,  1.,  2.,  3.,  4.,  5.,  6.,  7.,  8.,  9., 10.,\n",
       "       11., 12.], dtype=float32)\n",
       "Coordinates:\n",
       "  * YG       (YG) float32 -3.0 -2.0 -1.0 0.0 1.0 2.0 ... 8.0 9.0 10.0 11.0 12.0\n",
       "Attributes:\n",
       "    units:              degrees_north\n",
       "    axis:               Y\n",
       "    c_grid_axis_shift:  -0.5</pre>"
      ],
      "text/plain": [
       "<xarray.DataArray 'YG' (YG: 16)>\n",
       "array([-3., -2., -1.,  0.,  1.,  2.,  3.,  4.,  5.,  6.,  7.,  8.,  9., 10.,\n",
       "       11., 12.], dtype=float32)\n",
       "Coordinates:\n",
       "  * YG       (YG) float32 -3.0 -2.0 -1.0 0.0 1.0 2.0 ... 8.0 9.0 10.0 11.0 12.0\n",
       "Attributes:\n",
       "    units:              degrees_north\n",
       "    axis:               Y\n",
       "    c_grid_axis_shift:  -0.5"
      ]
     },
     "execution_count": 17,
     "metadata": {},
     "output_type": "execute_result"
    }
   ],
   "source": [
    "gg.YG"
   ]
  },
  {
   "cell_type": "code",
   "execution_count": 18,
   "metadata": {},
   "outputs": [],
   "source": [
    "giss['YG'] = xr.DataArray(giss.YC.values[:-1]+.5,coords={'YG':giss.YC.values[:-1]+.5},dims=('YG',))"
   ]
  },
  {
   "cell_type": "markdown",
   "metadata": {},
   "source": [
    "Here the longitude coordinate is much different. \n",
    "Rather than a spacing of 1.25degrees, here it is 1 degree."
   ]
  },
  {
   "cell_type": "code",
   "execution_count": 19,
   "metadata": {},
   "outputs": [],
   "source": [
    "giss['XG'] = xr.DataArray(giss.XC.values-.5,coords={'XG':giss.XC.values-.5},dims=('XG',))"
   ]
  },
  {
   "cell_type": "markdown",
   "metadata": {},
   "source": [
    "### Now there is one extra eastward velocity point which is giving some trouble\n",
    "\n",
    "Weird, not sure why that is there..."
   ]
  },
  {
   "cell_type": "code",
   "execution_count": 20,
   "metadata": {},
   "outputs": [],
   "source": [
    "giss = giss.drop_sel(YC=-3.5)"
   ]
  },
  {
   "cell_type": "markdown",
   "metadata": {},
   "source": [
    "### Some meta data for xgcm\n",
    "\n",
    "and another vertical coordinate..."
   ]
  },
  {
   "cell_type": "code",
   "execution_count": 21,
   "metadata": {},
   "outputs": [],
   "source": [
    "giss.XC.attrs['axis'] = 'X'\n",
    "giss.XG.attrs['axis'] = 'X'\n",
    "\n",
    "giss.YC.attrs['axis'] = 'Y'\n",
    "giss.YG.attrs['axis'] = 'Y'\n",
    "\n",
    "giss.XG.attrs['c_grid_axis_shift']=-0.5\n",
    "giss.YG.attrs['c_grid_axis_shift']=-0.5"
   ]
  },
  {
   "cell_type": "markdown",
   "metadata": {},
   "source": [
    "## Vertical coordinate is different\n",
    "\n",
    "Here I have to infer that this is the height of the \"upper grid cell face\" for each grid cell,\n",
    "rather than the cell center, since it starts at zero."
   ]
  },
  {
   "cell_type": "code",
   "execution_count": 22,
   "metadata": {},
   "outputs": [
    {
     "data": {
      "text/html": [
       "<pre>&lt;xarray.DataArray &#x27;Zl&#x27; (Zl: 17)&gt;\n",
       "array([  0.,  10.,  20.,  30.,  50.,  75., 100., 125., 150., 200., 250., 300.,\n",
       "       400., 500., 600., 700., 800.], dtype=float32)\n",
       "Coordinates:\n",
       "  * Zl       (Zl) float32 0.0 10.0 20.0 30.0 50.0 ... 500.0 600.0 700.0 800.0\n",
       "Attributes:\n",
       "    units:      m\n",
       "    long_name:  depth</pre>"
      ],
      "text/plain": [
       "<xarray.DataArray 'Zl' (Zl: 17)>\n",
       "array([  0.,  10.,  20.,  30.,  50.,  75., 100., 125., 150., 200., 250., 300.,\n",
       "       400., 500., 600., 700., 800.], dtype=float32)\n",
       "Coordinates:\n",
       "  * Zl       (Zl) float32 0.0 10.0 20.0 30.0 50.0 ... 500.0 600.0 700.0 800.0\n",
       "Attributes:\n",
       "    units:      m\n",
       "    long_name:  depth"
      ]
     },
     "execution_count": 22,
     "metadata": {},
     "output_type": "execute_result"
    }
   ],
   "source": [
    "giss.Zl"
   ]
  },
  {
   "cell_type": "markdown",
   "metadata": {},
   "source": [
    "Fake it, and extrapolate to get \"other side\""
   ]
  },
  {
   "cell_type": "code",
   "execution_count": 23,
   "metadata": {},
   "outputs": [],
   "source": [
    "dz = giss.Zl[-1]-giss.Zl[-2]\n",
    "giss['Zu'] = np.concatenate([giss.Zl[1:],[(giss.Zl[-1]+dz)]])"
   ]
  },
  {
   "cell_type": "code",
   "execution_count": 24,
   "metadata": {},
   "outputs": [
    {
     "data": {
      "text/html": [
       "<pre>&lt;xarray.DataArray &#x27;Zu&#x27; (Zu: 17)&gt;\n",
       "array([ 10.,  20.,  30.,  50.,  75., 100., 125., 150., 200., 250., 300., 400.,\n",
       "       500., 600., 700., 800., 900.], dtype=float32)\n",
       "Coordinates:\n",
       "  * Zu       (Zu) float32 10.0 20.0 30.0 50.0 75.0 ... 600.0 700.0 800.0 900.0</pre>"
      ],
      "text/plain": [
       "<xarray.DataArray 'Zu' (Zu: 17)>\n",
       "array([ 10.,  20.,  30.,  50.,  75., 100., 125., 150., 200., 250., 300., 400.,\n",
       "       500., 600., 700., 800., 900.], dtype=float32)\n",
       "Coordinates:\n",
       "  * Zu       (Zu) float32 10.0 20.0 30.0 50.0 75.0 ... 600.0 700.0 800.0 900.0"
      ]
     },
     "execution_count": 24,
     "metadata": {},
     "output_type": "execute_result"
    }
   ],
   "source": [
    "giss.Zu"
   ]
  },
  {
   "cell_type": "code",
   "execution_count": 25,
   "metadata": {},
   "outputs": [],
   "source": [
    "giss['Z'] = (giss.Zu.values-giss.Zl.values)/2 + giss.Zl.values"
   ]
  },
  {
   "cell_type": "code",
   "execution_count": 26,
   "metadata": {},
   "outputs": [],
   "source": [
    "giss['Zp1'] = np.concatenate([[giss.Zl[0]],giss.Zu])"
   ]
  },
  {
   "cell_type": "code",
   "execution_count": 27,
   "metadata": {},
   "outputs": [],
   "source": [
    "giss.Z.attrs['axis'] = 'Z'\n",
    "giss.Zl.attrs['axis'] = 'Z'\n",
    "giss.Zu.attrs['axis'] = 'Z'\n",
    "giss.Zp1.attrs['axis'] = 'Z'\n",
    "\n",
    "giss.XG.attrs['c_grid_axis_shift']=-0.5\n",
    "giss.YG.attrs['c_grid_axis_shift']=-0.5\n",
    "giss.Zl.attrs['c_grid_axis_shift']=-0.5\n",
    "giss.Zu.attrs['c_grid_axis_shift']= 0.5\n",
    "giss.Zp1.attrs['c_grid_axis_shift']=0.5"
   ]
  },
  {
   "cell_type": "markdown",
   "metadata": {},
   "source": [
    "### Finally, get differential elements for computing transports\n",
    "\n",
    "dx, dy..."
   ]
  },
  {
   "cell_type": "code",
   "execution_count": 28,
   "metadata": {},
   "outputs": [],
   "source": [
    "xg,yg = np.meshgrid(giss.XG,giss.YG)"
   ]
  },
  {
   "cell_type": "code",
   "execution_count": 29,
   "metadata": {},
   "outputs": [],
   "source": [
    "dxG = haversine(xg,yg,np.roll(xg,-1,axis=1),np.roll(yg,-1,axis=1))*1000"
   ]
  },
  {
   "cell_type": "markdown",
   "metadata": {},
   "source": [
    "Since latitude not periodic, have to add on the boundary condition"
   ]
  },
  {
   "cell_type": "code",
   "execution_count": 30,
   "metadata": {},
   "outputs": [],
   "source": [
    "xg_rolled = np.roll(xg,-1,axis=0)\n",
    "yg_rolled = np.roll(yg,-1,axis=0)\n",
    "\n",
    "yg_rolled[-1,:] = 13.*np.ones_like(xg_rolled[0,:])"
   ]
  },
  {
   "cell_type": "code",
   "execution_count": 31,
   "metadata": {},
   "outputs": [],
   "source": [
    "dyG = haversine(xg_rolled,yg_rolled,xg,yg) * 1000"
   ]
  },
  {
   "cell_type": "code",
   "execution_count": 32,
   "metadata": {},
   "outputs": [],
   "source": [
    "xc,yc = np.meshgrid(giss.XC,giss.YC)"
   ]
  },
  {
   "cell_type": "code",
   "execution_count": 33,
   "metadata": {},
   "outputs": [],
   "source": [
    "dxC = haversine(xc,yc,np.roll(xc,-1,axis=1),np.roll(yc,-1,axis=1))*1000"
   ]
  },
  {
   "cell_type": "code",
   "execution_count": 34,
   "metadata": {},
   "outputs": [],
   "source": [
    "xc_rolled = np.roll(xc,-1,axis=0)\n",
    "yc_rolled = np.roll(yc,-1,axis=0)\n",
    "\n",
    "yc_rolled[-1,:]=13.5*np.ones_like(yc_rolled[0,:])"
   ]
  },
  {
   "cell_type": "code",
   "execution_count": 35,
   "metadata": {},
   "outputs": [],
   "source": [
    "dyC = haversine(xc_rolled,yc_rolled,xc,yc)*1000"
   ]
  },
  {
   "cell_type": "code",
   "execution_count": 36,
   "metadata": {},
   "outputs": [],
   "source": [
    "giss['dxG'] = xr.DataArray(dxG,coords={'YG':giss.YG,'XC':giss.XC},dims=('YG','XC'),\n",
    "                          attrs={'units':'m'})\n",
    "giss['dyG'] = xr.DataArray(dyG,coords={'YC':giss.YC,'XG':giss.XG},dims=('YC','XG'),\n",
    "                          attrs={'units':'m'})\n",
    "giss['dxC'] = xr.DataArray(dxC,coords={'YC':giss.YC,'XG':giss.XG},dims=('YC','XG'),\n",
    "                          attrs={'units':'m'})\n",
    "giss['dyC'] = xr.DataArray(dyC,coords={'YG':giss.YG,'XC':giss.XC},dims=('YG','XC'),\n",
    "                          attrs={'units':'m'})"
   ]
  },
  {
   "cell_type": "code",
   "execution_count": 37,
   "metadata": {},
   "outputs": [],
   "source": [
    "for f in ['dxG','dxC','dyC','dyG']:\n",
    "    giss=giss.set_coords(f)"
   ]
  },
  {
   "cell_type": "markdown",
   "metadata": {},
   "source": [
    "### Now make a grid object"
   ]
  },
  {
   "cell_type": "code",
   "execution_count": 38,
   "metadata": {},
   "outputs": [],
   "source": [
    "grid = Grid(giss,periodic='X')"
   ]
  },
  {
   "cell_type": "code",
   "execution_count": 39,
   "metadata": {},
   "outputs": [
    {
     "data": {
      "text/plain": [
       "<xgcm.Grid>\n",
       "Z Axis (not periodic):\n",
       "  * center   Z --> left\n",
       "  * left     Zl --> center\n",
       "  * outer    Zp1 --> center\n",
       "  * right    Zu --> center\n",
       "X Axis (periodic):\n",
       "  * center   XC --> left\n",
       "  * left     XG --> center\n",
       "Y Axis (not periodic):\n",
       "  * center   YC --> left\n",
       "  * left     YG --> center"
      ]
     },
     "execution_count": 39,
     "metadata": {},
     "output_type": "execute_result"
    }
   ],
   "source": [
    "grid"
   ]
  },
  {
   "cell_type": "code",
   "execution_count": 40,
   "metadata": {},
   "outputs": [],
   "source": [
    "giss['drF'] = grid.diff(giss.Zp1,'Z',to='center')"
   ]
  },
  {
   "cell_type": "code",
   "execution_count": 41,
   "metadata": {},
   "outputs": [],
   "source": [
    "giss['dyF'] = grid.interp(giss.dyG,'X',boundary='fill')"
   ]
  },
  {
   "cell_type": "code",
   "execution_count": 42,
   "metadata": {},
   "outputs": [],
   "source": [
    "giss['dxF'] = grid.interp(giss.dxG,'Y',boundary='fill')"
   ]
  },
  {
   "cell_type": "markdown",
   "metadata": {},
   "source": [
    "### Reset variables to be associated with Z not Zl"
   ]
  },
  {
   "cell_type": "code",
   "execution_count": 44,
   "metadata": {},
   "outputs": [],
   "source": [
    "for fld in giss.data_vars.keys():\n",
    "    if 'Zl' in giss[fld].dims:\n",
    "        giss[fld] = giss[fld].swap_dims({'Zl':'Z'})"
   ]
  },
  {
   "cell_type": "code",
   "execution_count": 46,
   "metadata": {},
   "outputs": [],
   "source": [
    "giss = giss.set_coords(['drF','dxF','dyF'])"
   ]
  },
  {
   "cell_type": "code",
   "execution_count": 47,
   "metadata": {},
   "outputs": [
    {
     "data": {
      "text/html": [
       "<pre>&lt;xarray.Dataset&gt;\n",
       "Dimensions:  (XC: 360, XG: 360, YC: 16, YG: 16, Z: 17, Zl: 17, Zp1: 18, Zu: 17, time: 336)\n",
       "Coordinates:\n",
       "  * Z        (Z) float64 5.0 15.0 25.0 40.0 62.5 ... 550.0 650.0 750.0 850.0\n",
       "  * YC       (YC) float32 -2.5 -1.5 -0.5 0.5 1.5 2.5 ... 8.5 9.5 10.5 11.5 12.5\n",
       "  * XC       (XC) float32 -179.5 -178.5 -177.5 -176.5 ... 177.5 178.5 179.5\n",
       "  * Zl       (Zl) float32 0.0 10.0 20.0 30.0 50.0 ... 500.0 600.0 700.0 800.0\n",
       "  * time     (time) datetime64[ns] 1992-01-01 1992-02-01 ... 2019-12-01\n",
       "  * YG       (YG) float32 -3.0 -2.0 -1.0 0.0 1.0 2.0 ... 8.0 9.0 10.0 11.0 12.0\n",
       "  * XG       (XG) float32 -180.0 -179.0 -178.0 -177.0 ... 177.0 178.0 179.0\n",
       "  * Zu       (Zu) float32 10.0 20.0 30.0 50.0 75.0 ... 600.0 700.0 800.0 900.0\n",
       "  * Zp1      (Zp1) float32 0.0 10.0 20.0 30.0 50.0 ... 600.0 700.0 800.0 900.0\n",
       "    dxG      (YG, XC) float32 111043.42 111041.89 ... 108764.37 108766.26\n",
       "    dyG      (YC, XG) float32 111194.94 111194.94 ... 111194.87 111194.87\n",
       "    dxC      (YC, XG) float32 111088.47 111089.99 ... 108558.484 108560.37\n",
       "    dyC      (YG, XC) float32 111194.914 111194.914 ... 111194.87 111194.87\n",
       "    drF      (Z) float32 10.0 10.0 10.0 20.0 25.0 ... 100.0 100.0 100.0 100.0\n",
       "    dyF      (YC, XC) float32 111194.94 111194.94 ... 111194.87 111194.87\n",
       "    dxF      (YC, XC) float32 111085.75 111084.23 ... 54382.184 54383.13\n",
       "Data variables:\n",
       "    u        (time, Z, YC, XC) float32 -0.16269255 -0.15507309 ... -0.0036864323\n",
       "    v        (time, Z, YC, XC) float32 -0.09098051 -0.10466799 ... -0.002400057\n",
       "    t        (time, Z, YC, XC) float32 ...\n",
       "    s        (time, Z, YC, XC) float32 ...\n",
       "Attributes:\n",
       "    title:                     RunId Mean a-e Eh213f10 year=1992 month=JAN\n",
       "    history:                   Fri Apr 10 16:08:19 2020: ncecat 1992-01.uh.nc...\n",
       "    nco_openmp_thread_number:  1\n",
       "    NCO:                       4.2.3</pre>"
      ],
      "text/plain": [
       "<xarray.Dataset>\n",
       "Dimensions:  (XC: 360, XG: 360, YC: 16, YG: 16, Z: 17, Zl: 17, Zp1: 18, Zu: 17, time: 336)\n",
       "Coordinates:\n",
       "  * Z        (Z) float64 5.0 15.0 25.0 40.0 62.5 ... 550.0 650.0 750.0 850.0\n",
       "  * YC       (YC) float32 -2.5 -1.5 -0.5 0.5 1.5 2.5 ... 8.5 9.5 10.5 11.5 12.5\n",
       "  * XC       (XC) float32 -179.5 -178.5 -177.5 -176.5 ... 177.5 178.5 179.5\n",
       "  * Zl       (Zl) float32 0.0 10.0 20.0 30.0 50.0 ... 500.0 600.0 700.0 800.0\n",
       "  * time     (time) datetime64[ns] 1992-01-01 1992-02-01 ... 2019-12-01\n",
       "  * YG       (YG) float32 -3.0 -2.0 -1.0 0.0 1.0 2.0 ... 8.0 9.0 10.0 11.0 12.0\n",
       "  * XG       (XG) float32 -180.0 -179.0 -178.0 -177.0 ... 177.0 178.0 179.0\n",
       "  * Zu       (Zu) float32 10.0 20.0 30.0 50.0 75.0 ... 600.0 700.0 800.0 900.0\n",
       "  * Zp1      (Zp1) float32 0.0 10.0 20.0 30.0 50.0 ... 600.0 700.0 800.0 900.0\n",
       "    dxG      (YG, XC) float32 111043.42 111041.89 ... 108764.37 108766.26\n",
       "    dyG      (YC, XG) float32 111194.94 111194.94 ... 111194.87 111194.87\n",
       "    dxC      (YC, XG) float32 111088.47 111089.99 ... 108558.484 108560.37\n",
       "    dyC      (YG, XC) float32 111194.914 111194.914 ... 111194.87 111194.87\n",
       "    drF      (Z) float32 10.0 10.0 10.0 20.0 25.0 ... 100.0 100.0 100.0 100.0\n",
       "    dyF      (YC, XC) float32 111194.94 111194.94 ... 111194.87 111194.87\n",
       "    dxF      (YC, XC) float32 111085.75 111084.23 ... 54382.184 54383.13\n",
       "Data variables:\n",
       "    u        (time, Z, YC, XC) float32 -0.16269255 -0.15507309 ... -0.0036864323\n",
       "    v        (time, Z, YC, XC) float32 -0.09098051 -0.10466799 ... -0.002400057\n",
       "    t        (time, Z, YC, XC) float32 ...\n",
       "    s        (time, Z, YC, XC) float32 ...\n",
       "Attributes:\n",
       "    title:                     RunId Mean a-e Eh213f10 year=1992 month=JAN\n",
       "    history:                   Fri Apr 10 16:08:19 2020: ncecat 1992-01.uh.nc...\n",
       "    nco_openmp_thread_number:  1\n",
       "    NCO:                       4.2.3"
      ]
     },
     "execution_count": 47,
     "metadata": {},
     "output_type": "execute_result"
    }
   ],
   "source": [
    "giss"
   ]
  },
  {
   "cell_type": "markdown",
   "metadata": {},
   "source": [
    "### Interpolate velocities to where they normally would be on a C grid"
   ]
  },
  {
   "cell_type": "code",
   "execution_count": 45,
   "metadata": {},
   "outputs": [],
   "source": [
    "#giss['u'] = grid.interp(giss.u,'X',boundary='fill')"
   ]
  },
  {
   "cell_type": "code",
   "execution_count": 46,
   "metadata": {},
   "outputs": [],
   "source": [
    "#giss['v'] = grid.interp(giss.v,'Y',boundary='fill')"
   ]
  },
  {
   "cell_type": "markdown",
   "metadata": {},
   "source": [
    "## Save this for later"
   ]
  },
  {
   "cell_type": "code",
   "execution_count": 48,
   "metadata": {},
   "outputs": [],
   "source": [
    "giss.to_netcdf('/workspace/results/giss-euc/giss_h.nc')"
   ]
  },
  {
   "cell_type": "code",
   "execution_count": null,
   "metadata": {},
   "outputs": [],
   "source": []
  }
 ],
 "metadata": {
  "kernelspec": {
   "display_name": "py37_tim",
   "language": "python",
   "name": "py37_tim"
  },
  "language_info": {
   "codemirror_mode": {
    "name": "ipython",
    "version": 3
   },
   "file_extension": ".py",
   "mimetype": "text/x-python",
   "name": "python",
   "nbconvert_exporter": "python",
   "pygments_lexer": "ipython3",
   "version": "3.7.6"
  }
 },
 "nbformat": 4,
 "nbformat_minor": 4
}
